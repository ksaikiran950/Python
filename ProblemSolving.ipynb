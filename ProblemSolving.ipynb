{
 "cells": [
  {
   "cell_type": "markdown",
   "id": "1796fa78",
   "metadata": {
    "vscode": {
     "languageId": "javascript"
    }
   },
   "source": [
    "Problem solving :- looping statnents"
   ]
  },
  {
   "cell_type": "code",
   "execution_count": 26,
   "id": "51f42109",
   "metadata": {},
   "outputs": [
    {
     "name": "stdout",
     "output_type": "stream",
     "text": [
      "6\n"
     ]
    }
   ],
   "source": [
    "n=123\n",
    "m=str(n)\n",
    "sum=0\n",
    "for i in m:\n",
    "    sum+=int(i)\n",
    "print(sum)"
   ]
  },
  {
   "cell_type": "code",
   "execution_count": 27,
   "id": "a64fce88",
   "metadata": {},
   "outputs": [
    {
     "name": "stdout",
     "output_type": "stream",
     "text": [
      "a3b2c2d1\n"
     ]
    }
   ],
   "source": [
    "s=\"aaabbccd\"\n",
    "res=\"\"\n",
    "for ch in s:\n",
    "    if ch not in res:\n",
    "        count=0\n",
    "        for e in s:\n",
    "            if e ==ch:\n",
    "                count+=1\n",
    "\n",
    "        res=res+f\"{ch}{count}\"\n",
    "print(res)"
   ]
  },
  {
   "cell_type": "code",
   "execution_count": 28,
   "id": "483eef63",
   "metadata": {},
   "outputs": [
    {
     "name": "stdout",
     "output_type": "stream",
     "text": [
      "a3b2c2d1\n"
     ]
    }
   ],
   "source": [
    "s = \"aaabbccd\"\n",
    "res = \"\"\n",
    "\n",
    "for i in range(len(s)):\n",
    "    ch = s[i]\n",
    "    if ch not in res:        # ensures we only count first time\n",
    "        count = 0\n",
    "        for j in range(len(s)):\n",
    "            if s[j] == ch:\n",
    "                count += 1\n",
    "        res += f\"{ch}{count}\"\n",
    "\n",
    "print(res)"
   ]
  },
  {
   "cell_type": "code",
   "execution_count": 29,
   "id": "233e4df2",
   "metadata": {},
   "outputs": [
    {
     "name": "stdout",
     "output_type": "stream",
     "text": [
      "a4b4c2\n"
     ]
    }
   ],
   "source": [
    "ip = \"aabbaaccbb\"\n",
    "output = \"\"\n",
    "for ch in set(ip):\n",
    "    cnt = 0\n",
    "    for c in ip:\n",
    "        if c == ch:\n",
    "            cnt += 1\n",
    "    output += f\"{ch}{cnt}\"\n",
    "print(output)"
   ]
  },
  {
   "cell_type": "code",
   "execution_count": 30,
   "id": "834e1258",
   "metadata": {},
   "outputs": [
    {
     "name": "stdout",
     "output_type": "stream",
     "text": [
      "a2b3a2c2b2\n"
     ]
    }
   ],
   "source": [
    "s= \"aabbbaaccbb\"\n",
    "res=s[0]\n",
    "c=1\n",
    "for i in range(1,len(s)):\n",
    "    if s[i]==s[i-1]:\n",
    "        c+=1\n",
    "    else:\n",
    "        res=res+str(c)+s[i]\n",
    "        c=1\n",
    "res+=str(c)\n",
    "print(res)\n",
    "\n"
   ]
  },
  {
   "cell_type": "code",
   "execution_count": 31,
   "id": "65099188",
   "metadata": {},
   "outputs": [
    {
     "name": "stdout",
     "output_type": "stream",
     "text": [
      "18\n"
     ]
    }
   ],
   "source": [
    "a=10\n",
    "b=2\n",
    "c=8\n",
    "if a>b and a>c:\n",
    "    if b>c:\n",
    "        print(a+b)\n",
    "    else:\n",
    "        print(a+c)\n",
    "elif b>a and b>c:\n",
    "    if a>c:\n",
    "        print(b+a)\n",
    "    else:\n",
    "        print(b+c)\n",
    "else:\n",
    "    if a>b:\n",
    "        print(c+a)\n",
    "    else:\n",
    "        print(c+b)\n"
   ]
  },
  {
   "cell_type": "code",
   "execution_count": 32,
   "id": "33e982dd",
   "metadata": {},
   "outputs": [
    {
     "name": "stdout",
     "output_type": "stream",
     "text": [
      "[4, 5, 1, 2, 3]\n"
     ]
    }
   ],
   "source": [
    "l=[1,2,3,4,5]\n",
    "l1=l[len(l)-2::]+l[0:len(l)-2]\n",
    "print(l1)"
   ]
  },
  {
   "cell_type": "code",
   "execution_count": 33,
   "id": "c60da919",
   "metadata": {},
   "outputs": [
    {
     "name": "stdout",
     "output_type": "stream",
     "text": [
      "[4, 5, 1, 2, 3]\n"
     ]
    }
   ],
   "source": [
    "l=[1,2,3,4,5]\n",
    "l1=[]\n",
    "l1.append(l[-2])\n",
    "l1.append(l[-1])\n",
    "l.remove(l[-2])\n",
    "l.remove(l[-1])\n",
    "l1=l1+l\n",
    "print(l1)"
   ]
  },
  {
   "cell_type": "code",
   "execution_count": 34,
   "id": "e8cad050",
   "metadata": {},
   "outputs": [
    {
     "name": "stdout",
     "output_type": "stream",
     "text": [
      "False\n"
     ]
    }
   ],
   "source": [
    "s = \"[()[]{]\"\n",
    "def is_balanced(s):\n",
    "    st=[]\n",
    "    for c in s:\n",
    "        if c ==\"(\" or c==\"{\" or c==\"[\":\n",
    "            st.append(c)\n",
    "        elif c ==\")\" or c==\"}\" or c==\"]\":\n",
    "            if not st:\n",
    "                return False\n",
    "            top=st.pop()\n",
    "            if (c == ')' and top != '(') or (c == '}' and top != '{') or (c == ']' and top != '['):\n",
    "                return False\n",
    "    return not st\n",
    "print(is_balanced(s))\n"
   ]
  },
  {
   "cell_type": "code",
   "execution_count": 35,
   "id": "a4744c61",
   "metadata": {},
   "outputs": [
    {
     "name": "stdout",
     "output_type": "stream",
     "text": [
      "1 2\n"
     ]
    }
   ],
   "source": [
    "l1=[1,17,4,1,3,5,2,2]\n",
    "sm=float(\"inf\")\n",
    "\n",
    "\n",
    "ssm=float(\"inf\")\n",
    "for ch in l1:\n",
    "    if ch<sm:\n",
    "        ssm=sm\n",
    "        sm=ch\n",
    "    elif ch<ssm and ch !=sm:\n",
    "        ssm=ch\n",
    "print(sm,ssm)"
   ]
  },
  {
   "cell_type": "code",
   "execution_count": 36,
   "id": "89875fe6",
   "metadata": {},
   "outputs": [
    {
     "name": "stdout",
     "output_type": "stream",
     "text": [
      "wolleh\n",
      "h\n",
      "l\n",
      "o\n"
     ]
    }
   ],
   "source": [
    "s=\"helloworld\"\n",
    "s=s[5::-1]\n",
    "print(s)\n",
    "\n",
    "for i in range(len(s)-1,-1,-2):\n",
    "    print(s[i])"
   ]
  },
  {
   "cell_type": "code",
   "execution_count": 37,
   "id": "b220cd20",
   "metadata": {},
   "outputs": [
    {
     "name": "stdout",
     "output_type": "stream",
     "text": [
      "prime\n"
     ]
    }
   ],
   "source": [
    "x=23\n",
    "flag=1\n",
    "for i in range(2,x):\n",
    "    if x%i==0:\n",
    "        flag=0\n",
    "        break\n",
    "if flag==0:\n",
    "    print(\"not a prime\")\n",
    "else:\n",
    "    print(\"prime\")\n"
   ]
  },
  {
   "cell_type": "code",
   "execution_count": 38,
   "id": "1e2fcf20",
   "metadata": {},
   "outputs": [
    {
     "data": {
      "text/plain": [
       "True"
      ]
     },
     "execution_count": 38,
     "metadata": {},
     "output_type": "execute_result"
    }
   ],
   "source": [
    "x=23\n",
    "def is_prime(x):\n",
    "    if x<=1:\n",
    "        return False    \n",
    "    for i in range(2,x):\n",
    "        if x%i==0:\n",
    "            return False\n",
    "    return True\n",
    "is_prime(x)"
   ]
  },
  {
   "cell_type": "code",
   "execution_count": 39,
   "id": "199ad61f",
   "metadata": {},
   "outputs": [
    {
     "name": "stdout",
     "output_type": "stream",
     "text": [
      "[2, 3, 5, 7, 11, 13, 17, 19, 23]\n",
      "{1: 1, 2: 4, 3: 9, 4: 16, 5: 25, 6: 36, 7: 49, 8: 64, 9: 81, 10: 100, 11: 121, 12: 144, 13: 169, 14: 196, 15: 225, 16: 256, 17: 289, 18: 324, 19: 361, 20: 400, 21: 441, 22: 484, 23: 529, 24: 576}\n"
     ]
    }
   ],
   "source": [
    "# make a list of prime numbers within a range  1 to 25 using comprehension\n",
    "op=[x for x in range(1,25) if is_prime(x)]\n",
    "print(op)\n",
    "op={x:x**2 for x in range(1,25)}\n",
    "print(op)"
   ]
  },
  {
   "cell_type": "code",
   "execution_count": 40,
   "id": "bda374db",
   "metadata": {},
   "outputs": [
    {
     "name": "stdout",
     "output_type": "stream",
     "text": [
      "((2, 4), (3, 9), (4, 16), (5, 25))\n"
     ]
    }
   ],
   "source": [
    "res=tuple((x,x**2) for x in range(2,6))\n",
    "print(res)"
   ]
  },
  {
   "cell_type": "code",
   "execution_count": 41,
   "id": "e19dd68a",
   "metadata": {},
   "outputs": [],
   "source": [
    "# l1=[\"sravani\",\"sravan\",\"kumar\",\"kumari\",\"laxman\",\"arjun\",]\n",
    "# (('sravani,'female')"
   ]
  },
  {
   "cell_type": "code",
   "execution_count": 42,
   "id": "be9210dc",
   "metadata": {},
   "outputs": [
    {
     "name": "stdout",
     "output_type": "stream",
     "text": [
      "prime\n"
     ]
    }
   ],
   "source": [
    "n=13\n",
    "def is_prime(x):\n",
    "    if x<=1:\n",
    "        return False\n",
    "    for i in range(2,x):\n",
    "        if x%i==0:\n",
    "            return False\n",
    "    return True\n",
    "if is_prime(n):\n",
    "    print(\"prime\")\n",
    "else:\n",
    "    print(\"not prime\")"
   ]
  },
  {
   "cell_type": "code",
   "execution_count": 43,
   "id": "2253e956",
   "metadata": {},
   "outputs": [
    {
     "name": "stdout",
     "output_type": "stream",
     "text": [
      "1 not prime\n",
      "2 prime\n",
      "3 prime\n",
      "4 not prime\n",
      "5 prime\n",
      "6 not prime\n",
      "7 prime\n",
      "8 not prime\n",
      "9 not prime\n",
      "10 not prime\n",
      "11 prime\n",
      "12 not prime\n",
      "13 prime\n",
      "14 not prime\n",
      "15 not prime\n",
      "16 not prime\n",
      "17 prime\n",
      "18 not prime\n",
      "19 prime\n",
      "20 not prime\n",
      "21 not prime\n",
      "22 not prime\n",
      "23 prime\n",
      "24 not prime\n"
     ]
    }
   ],
   "source": [
    "n=25\n",
    "def is_prime(x):\n",
    "    if x<=1:\n",
    "        return False\n",
    "    for i in range(2,x):\n",
    "        if x%i==0:\n",
    "            return False\n",
    "    return True\n",
    "for i in range(1,n):\n",
    "    if is_prime(i):\n",
    "        print(i,\"prime\")\n",
    "    else:\n",
    "        print(i,\"not prime\")"
   ]
  },
  {
   "cell_type": "code",
   "execution_count": 44,
   "id": "32ec8f78",
   "metadata": {},
   "outputs": [
    {
     "name": "stdout",
     "output_type": "stream",
     "text": [
      "0 1 1 2 3 "
     ]
    }
   ],
   "source": [
    "n=5\n",
    "a=0\n",
    "b=1\n",
    "print(a,b,end=\" \")\n",
    "for i in range(n-2):\n",
    "    c=a+b\n",
    "    a=b\n",
    "    b=c\n",
    "    print(c,end=\" \")\n"
   ]
  },
  {
   "cell_type": "code",
   "execution_count": 45,
   "id": "3c071aa0",
   "metadata": {},
   "outputs": [
    {
     "name": "stdout",
     "output_type": "stream",
     "text": [
      "0 1 1 2 3 "
     ]
    }
   ],
   "source": [
    "n=5\n",
    "a,b =0,1\n",
    "for i in range(n):\n",
    "    print(a,end=\" \")\n",
    "    a,b=b,a+b"
   ]
  },
  {
   "cell_type": "code",
   "execution_count": 46,
   "id": "94e0b172",
   "metadata": {},
   "outputs": [
    {
     "name": "stdout",
     "output_type": "stream",
     "text": [
      "5\n"
     ]
    }
   ],
   "source": [
    "n=5\n",
    "def fib(x):\n",
    "    a,b =0,1\n",
    "    for i in range(x):\n",
    "        a,b=b,a+b\n",
    "    return a\n",
    "print(fib(n))\n",
    "     "
   ]
  },
  {
   "cell_type": "code",
   "execution_count": 47,
   "id": "c1275cf4",
   "metadata": {},
   "outputs": [
    {
     "name": "stdout",
     "output_type": "stream",
     "text": [
      "not arm\n"
     ]
    }
   ],
   "source": [
    "n=152\n",
    "def d_count(n):\n",
    "    e=n\n",
    "    count=0\n",
    "    while e>0:\n",
    "        count+=1\n",
    "        e//=10\n",
    "    return count\n",
    "\n",
    "def armstrong(n):\n",
    "    x=n\n",
    "    res=0\n",
    "    while x>0:\n",
    "        d=x%10\n",
    "        res=res+d**d_count(n)\n",
    "        x//=10\n",
    "    return res\n",
    "if n==armstrong(n):\n",
    "    print(\"armstrong\")\n",
    "else:\n",
    "    print(\"not arm\")\n",
    "\n"
   ]
  },
  {
   "cell_type": "code",
   "execution_count": 48,
   "id": "e9b342e9",
   "metadata": {},
   "outputs": [
    {
     "name": "stdout",
     "output_type": "stream",
     "text": [
      "first 41\n",
      "second 19\n"
     ]
    }
   ],
   "source": [
    "\"\"\"Task:\n",
    "find largest and second largest from given list of numbers.\n",
    "ip=['sravani','sravan','kumar','kumari','lalitha','lalith','arjun','lakshmi','nandini']\n",
    "op=[(('sravani','female'),('sravan','male'),('kumar','male'))\n",
    "\"\"\"\n",
    "\n",
    "\n",
    "l1=[5,8,7,6,41,19,15]\n",
    "fl=l1[0]\n",
    "sl=l1[0]\n",
    "for e in l1:\n",
    "    if e>fl:\n",
    "        sl=fl\n",
    "        fl=e\n",
    "    elif e>sl and e !=fl:\n",
    "        sl=e\n",
    "print(\"first\",fl)\n",
    "print(\"second\",sl)"
   ]
  },
  {
   "cell_type": "code",
   "execution_count": 49,
   "id": "f8e0c027",
   "metadata": {},
   "outputs": [
    {
     "name": "stdout",
     "output_type": "stream",
     "text": [
      "(('sravani', 'female'), ('sravan', 'male'), ('kumar', 'male'), ('kumari', 'female'), ('lalitha', 'female'), ('lalith', 'male'), ('arjun', 'male'), ('lakshmi', 'female'), ('nandini', 'female'))\n"
     ]
    }
   ],
   "source": [
    "def gender(name):\n",
    "    if name[-1] in \"ai\": \n",
    "        return (name, \"female\")\n",
    "        \n",
    "    return (name, \"male\")    \n",
    "\n",
    "\n",
    "ip=['sravani','sravan','kumar','kumari','lalitha','lalith','arjun','lakshmi','nandini']\n",
    "op = tuple(gender(name) for name in ip)\n",
    "print(op)"
   ]
  },
  {
   "cell_type": "code",
   "execution_count": 50,
   "id": "3a50b4c3",
   "metadata": {},
   "outputs": [
    {
     "name": "stdout",
     "output_type": "stream",
     "text": [
      "5\n",
      "6\n",
      "10.4799\n"
     ]
    }
   ],
   "source": [
    "# 02-09-2025\n",
    "import math\n",
    "print(int(5.9))\n",
    "print(math.ceil(5.9))\n",
    "\n",
    "print(round(10.47987892802,4))"
   ]
  },
  {
   "cell_type": "code",
   "execution_count": 51,
   "id": "d2a97bd8",
   "metadata": {},
   "outputs": [
    {
     "name": "stdout",
     "output_type": "stream",
     "text": [
      "100000\n"
     ]
    }
   ],
   "source": [
    "num = float('-inf')\n",
    "list1=[100,1000,10000,100000]\n",
    "for i in list1:\n",
    "    if i > num:\n",
    "        num=i\n",
    "print(num)"
   ]
  },
  {
   "cell_type": "code",
   "execution_count": 52,
   "id": "06496825",
   "metadata": {},
   "outputs": [
    {
     "name": "stdout",
     "output_type": "stream",
     "text": [
      "50\n"
     ]
    }
   ],
   "source": [
    "num=float('-inf')\n",
    "listt=[-20,30,-50,10]\n",
    "for e in listt:\n",
    "    e=abs(e)\n",
    "    if e>num:\n",
    "        num=e\n",
    "\n",
    "print(num)\n"
   ]
  },
  {
   "cell_type": "code",
   "execution_count": 53,
   "id": "5f64b921",
   "metadata": {},
   "outputs": [
    {
     "name": "stdout",
     "output_type": "stream",
     "text": [
      "(4, 1)\n"
     ]
    }
   ],
   "source": [
    "print(divmod(9,2))"
   ]
  },
  {
   "cell_type": "code",
   "execution_count": 54,
   "id": "fc2d7e02",
   "metadata": {},
   "outputs": [
    {
     "name": "stdout",
     "output_type": "stream",
     "text": [
      "(3+4j)\n"
     ]
    }
   ],
   "source": [
    "print(complex(3,4))"
   ]
  },
  {
   "cell_type": "code",
   "execution_count": 55,
   "id": "c6bcfeb4",
   "metadata": {},
   "outputs": [
    {
     "name": "stdout",
     "output_type": "stream",
     "text": [
      "<class 'int'>\n",
      "True\n"
     ]
    }
   ],
   "source": [
    "num=4\n",
    "print(type(num))\n",
    "print(isinstance(num,int))"
   ]
  },
  {
   "cell_type": "code",
   "execution_count": 56,
   "id": "174c1eda",
   "metadata": {},
   "outputs": [
    {
     "name": "stdout",
     "output_type": "stream",
     "text": [
      "[True, False, True, False, True, True]\n"
     ]
    }
   ],
   "source": [
    "num=[10,10.0,11,11.0,12,13]\n",
    "\n",
    "     \n",
    "def instance(n):\n",
    "    return isinstance(n,int)  # returns boolean value  True or False\n",
    "    \n",
    "num2=[instance(x) for x in num]\n",
    "print(num2)\n",
    "        \n"
   ]
  },
  {
   "cell_type": "code",
   "execution_count": 60,
   "id": "196e05ac",
   "metadata": {},
   "outputs": [
    {
     "name": "stdout",
     "output_type": "stream",
     "text": [
      "120\n"
     ]
    }
   ],
   "source": [
    "import math\n",
    "num=5\n",
    "print(math.factorial(num))"
   ]
  },
  {
   "cell_type": "code",
   "execution_count": 3,
   "id": "35f1fd91",
   "metadata": {},
   "outputs": [
    {
     "name": "stdout",
     "output_type": "stream",
     "text": [
      "4\n",
      "[0, 1, 0, 0]\n",
      "4\n"
     ]
    }
   ],
   "source": [
    "grid = [[0,1,0,0],[1,1,1,0],[0,1,0,0],[1,1,0,0]]\n",
    "print(len(grid))\n",
    "print(grid[0])\n",
    "print(len(grid[0]))"
   ]
  },
  {
   "cell_type": "markdown",
   "id": "a1c67b31",
   "metadata": {},
   "source": [
    "# string built-in functions\n",
    "\n",
    "\"\"\"ASCII - American standard code for information interchange\"\"\"\n"
   ]
  },
  {
   "cell_type": "code",
   "execution_count": 2,
   "id": "3c0757cd",
   "metadata": {},
   "outputs": [
    {
     "name": "stdout",
     "output_type": "stream",
     "text": [
      "A\n",
      "49\n"
     ]
    }
   ],
   "source": [
    "s=\"a\"\n",
    "print(chr(ord(s)-32))\n",
    "print(ord(\"1\"))"
   ]
  },
  {
   "cell_type": "code",
   "execution_count": 3,
   "id": "a670da81",
   "metadata": {},
   "outputs": [
    {
     "name": "stdout",
     "output_type": "stream",
     "text": [
      "sai\n"
     ]
    }
   ],
   "source": [
    "s=\"SAI\"\n",
    "print(s.lower())"
   ]
  },
  {
   "cell_type": "code",
   "execution_count": 4,
   "id": "d01a5e64",
   "metadata": {},
   "outputs": [
    {
     "name": "stdout",
     "output_type": "stream",
     "text": [
      "KIRAN\n"
     ]
    }
   ],
   "source": [
    "s=\"kiran\"\n",
    "print(s.upper())"
   ]
  },
  {
   "cell_type": "code",
   "execution_count": 6,
   "id": "5fc76535",
   "metadata": {},
   "outputs": [
    {
     "name": "stdout",
     "output_type": "stream",
     "text": [
      "First name\n",
      "First Name\n"
     ]
    }
   ],
   "source": [
    "s=\"first name\"\n",
    "print(s.capitalize())\n",
    "print(s.title())"
   ]
  },
  {
   "cell_type": "code",
   "execution_count": 8,
   "id": "4a9ec299",
   "metadata": {},
   "outputs": [
    {
     "name": "stdout",
     "output_type": "stream",
     "text": [
      "SaIkIrAn\n",
      "DDSKLDSKOKANSFJ KDKFLKS LKLDHFJL JDLFNJSDF NDFNJ\n"
     ]
    }
   ],
   "source": [
    "s=\"sAiKiRaN\"\n",
    "print(s.swapcase())\n",
    "\n",
    "\n",
    "st=\"ddskldskokansfj kdkflks lkldhfjl jdlfnjsdf ndfnj\"\n",
    "print(st.swapcase())"
   ]
  },
  {
   "cell_type": "code",
   "execution_count": null,
   "id": "40ad45b2",
   "metadata": {},
   "outputs": [
    {
     "name": "stdout",
     "output_type": "stream",
     "text": [
      "SKjug\n"
     ]
    }
   ],
   "source": [
    "def sai(s):\n",
    "    res=\"\"\n",
    "    for i in range(len(str(s))):\n",
    "        if \"a\"<=s[i]<=\"z\":\n",
    "            res+=(chr(ord(s[i])-32))\n",
    "        elif \"A\"<=s[i]<=\"Z\":\n",
    "            res+=chr(ord(s[i])+32)\n",
    "    return res    \n",
    "\n",
    "s=\"skJUG\"\n",
    "print(sai(s))"
   ]
  },
  {
   "cell_type": "code",
   "execution_count": null,
   "id": "471ac83b",
   "metadata": {},
   "outputs": [
    {
     "name": "stdout",
     "output_type": "stream",
     "text": [
      " Sai Kiran \n",
      "Sai Kiran\n",
      "Sai Kiran \n",
      " Sai Kiran\n"
     ]
    }
   ],
   "source": [
    "s=\" Sai Kiran \"\n",
    "print(s)\n",
    "print(s.strip())\n",
    "print(s.lstrip())  # remove left space\n",
    "print(s.rstrip())   # remove right sapce"
   ]
  },
  {
   "cell_type": "code",
   "execution_count": 24,
   "id": "a09c05a6",
   "metadata": {},
   "outputs": [
    {
     "data": {
      "text/plain": [
       "'I am Python developer'"
      ]
     },
     "execution_count": 24,
     "metadata": {},
     "output_type": "execute_result"
    }
   ],
   "source": [
    "s=\"I am java developer\"\n",
    "s.replace(\"java\",\"Python\")"
   ]
  },
  {
   "cell_type": "code",
   "execution_count": 29,
   "id": "9a01025b",
   "metadata": {},
   "outputs": [
    {
     "name": "stdout",
     "output_type": "stream",
     "text": [
      "['dkfjff', 'fhuhsdfu', 'jdasihfj', 'fhdgb', '']\n",
      "7\n"
     ]
    }
   ],
   "source": [
    "str1=\"dkfjff,fhuhsdfu,jdasihfj,fhdgb,\"\n",
    "parts=str1.split(\",\")\n",
    "print(parts)\n",
    "print(str1.count(\"f\"))"
   ]
  },
  {
   "cell_type": "code",
   "execution_count": 5,
   "id": "9120d25b",
   "metadata": {},
   "outputs": [
    {
     "name": "stdout",
     "output_type": "stream",
     "text": [
      "<class 'set'>\n"
     ]
    }
   ],
   "source": [
    "a=set()\n",
    "print(type(a))"
   ]
  },
  {
   "cell_type": "code",
   "execution_count": 9,
   "id": "4c2fa4f8",
   "metadata": {},
   "outputs": [
    {
     "name": "stdout",
     "output_type": "stream",
     "text": [
      "{'name': 'sai', 'age': 25}\n",
      "{'name': 'sai', 'age': 25, 'place': 'hyderabd'}\n",
      "name\n",
      "age\n",
      "place\n"
     ]
    }
   ],
   "source": [
    "dict1={'name':\"sai\",\"age\":21}\n",
    "dict1['age']=25\n",
    "print(dict1)\n",
    "dict1[\"place\"]=\"hyderabd\"\n",
    "print(dict1)\n",
    "dict1.keys()\n",
    "for key in dict1:\n",
    "    print(key)"
   ]
  },
  {
   "cell_type": "code",
   "execution_count": 16,
   "id": "2282408a",
   "metadata": {},
   "outputs": [
    {
     "name": "stdout",
     "output_type": "stream",
     "text": [
      "a e i o u "
     ]
    }
   ],
   "source": [
    "v=\"aeiou\"\n",
    "for i in range(97,123):\n",
    "    if chr(i) in v:\n",
    "        print(chr(i),end=\" \")"
   ]
  },
  {
   "cell_type": "code",
   "execution_count": 8,
   "id": "87ecbe47",
   "metadata": {},
   "outputs": [
    {
     "name": "stdout",
     "output_type": "stream",
     "text": [
      "a b c d e f g h i j k l m n o p q r s t u v w x y z "
     ]
    }
   ],
   "source": [
    "for i in range(97,123):\n",
    "    print(chr(i),end=\" \")"
   ]
  },
  {
   "cell_type": "code",
   "execution_count": 2,
   "id": "d8fc5c06",
   "metadata": {},
   "outputs": [
    {
     "name": "stdout",
     "output_type": "stream",
     "text": [
      "2\n",
      "3\n",
      "5\n",
      "7\n"
     ]
    }
   ],
   "source": [
    "def is_prime(n):\n",
    "    if n<=1:\n",
    "        return False\n",
    "    for i in range(2,n):\n",
    "        if n%i==0:\n",
    "            return False\n",
    "    return True\n",
    "\n",
    "n1=1\n",
    "n2=10\n",
    "for i in range(n1,n2):\n",
    "    if is_prime(i):\n",
    "        print(i)\n"
   ]
  },
  {
   "cell_type": "code",
   "execution_count": 4,
   "id": "cbc58c87",
   "metadata": {},
   "outputs": [
    {
     "name": "stdout",
     "output_type": "stream",
     "text": [
      "22\n"
     ]
    }
   ],
   "source": [
    "a=int(input())\n",
    "b=int(input())\n",
    "\n",
    "def add_num(a,b,c=10):\n",
    "    return a+b+c\n",
    "print(add_num(a,b))\n"
   ]
  },
  {
   "cell_type": "code",
   "execution_count": 5,
   "id": "26de0131",
   "metadata": {},
   "outputs": [
    {
     "name": "stdout",
     "output_type": "stream",
     "text": [
      "<class 'dict'>\n"
     ]
    }
   ],
   "source": [
    "a={}\n",
    "print(type(a))"
   ]
  },
  {
   "cell_type": "code",
   "execution_count": 2,
   "id": "0536ea34",
   "metadata": {},
   "outputs": [
    {
     "name": "stdout",
     "output_type": "stream",
     "text": [
      "21\n"
     ]
    }
   ],
   "source": [
    "a = int(input())\n",
    "b = int(input())\n",
    "\n",
    "def add_num(a, b, c=10):\n",
    "    return a + b + c\n",
    "\n",
    "# Store the result in a variable and print it\n",
    "result = add_num(a, b)\n",
    "print(result)\n",
    "\n",
    "# Or print the result directly\n",
    "# print(add_num(a, b))"
   ]
  },
  {
   "cell_type": "code",
   "execution_count": 3,
   "id": "983ee62d",
   "metadata": {},
   "outputs": [
    {
     "name": "stdout",
     "output_type": "stream",
     "text": [
      "4\n",
      "3\n",
      "2\n",
      "1\n"
     ]
    }
   ],
   "source": [
    "s=\"1234\"\n",
    "for x in s[::-1]:\n",
    "    print(x)"
   ]
  },
  {
   "cell_type": "code",
   "execution_count": 1,
   "id": "8c744f52",
   "metadata": {},
   "outputs": [
    {
     "name": "stdout",
     "output_type": "stream",
     "text": [
      "4\n"
     ]
    }
   ],
   "source": [
    "s=\"Sai Kiran\"\n",
    "print(s.find(\"Kiran\"))"
   ]
  },
  {
   "cell_type": "code",
   "execution_count": 3,
   "id": "883c9687",
   "metadata": {},
   "outputs": [
    {
     "name": "stdout",
     "output_type": "stream",
     "text": [
      "10\n"
     ]
    }
   ],
   "source": [
    "s=\"Kiran Sai Kiran\"\n",
    "print(s.rfind(\"Kiran\"))"
   ]
  },
  {
   "cell_type": "code",
   "execution_count": null,
   "id": "a582efe5",
   "metadata": {},
   "outputs": [
    {
     "name": "stdout",
     "output_type": "stream",
     "text": [
      "10\n"
     ]
    }
   ],
   "source": [
    "\n",
    "# rfind\n",
    "\n",
    "def sai(s,ss):\n",
    "    for  i in range(len(s)-1,-1,-1):\n",
    "        if s[i]==ss:\n",
    "            return i\n",
    "\n",
    "\n",
    "\n",
    "s=\"Kiran Sai Kiran\"\n",
    "ss=\"K\"\n",
    "print(sai(s,ss))\n"
   ]
  },
  {
   "cell_type": "code",
   "execution_count": 8,
   "id": "036a89d7",
   "metadata": {},
   "outputs": [
    {
     "name": "stdout",
     "output_type": "stream",
     "text": [
      "5\n"
     ]
    }
   ],
   "source": [
    "s=\"Kiran Sai Kiran\"\n",
    "ss=\"Kiran \"\n",
    "print(ss.index(\" \"))"
   ]
  },
  {
   "cell_type": "code",
   "execution_count": null,
   "id": "d60cdbae",
   "metadata": {},
   "outputs": [],
   "source": [
    "# checking function\n",
    "# returns boolean values    ( True / False )\n",
    "\n",
    "\n",
    "# startswith()\n",
    "\"\"\" startwith():\n",
    "to check its prefix starts with sub or not (True or False )\n",
    "\n",
    "endswith()\n",
    "to check its suffix with sub string()\n",
    "\n",
    "s.endswith(suffix)  # true or false\n",
    "\n",
    "islower()\n",
    "to check the string is lower or not \n",
    "\n",
    "s.lower()\n",
    "\n",
    "isupper()\n",
    "to check the string is upper or not\n",
    "s.upper()\n",
    "\n",
    "\n",
    "isalpha()\n",
    "to check the string is alphabet or not\n",
    "\n",
    "s.isalpha()\n",
    "\n",
    "\n",
    "isdigit()\n",
    "to check the input contains all digits or not\n",
    "\n",
    "s.digit()\n",
    "\n",
    "isalnum()\n",
    "to check input contains alphanumeric a-z, A-Z, 0-9\n",
    "s.alnum()\n",
    "\n",
    "\n",
    "isspace()\n",
    "str.isspace()\n",
    "\n",
    "Meaning: Returns True if all characters in the string are whitespace characters.\n",
    "\n",
    "Whitespace characters include:\n",
    "\n",
    "Space \" \"\n",
    "\n",
    "Tab \"\\t\"\n",
    "\n",
    "Newline \"\\n\"\n",
    "\n",
    "Carriage return \"\\r\"\n",
    "\n",
    "Vertical tab \"\\v\"\n",
    "\n",
    "Form feed \"\\f\"\n",
    "\n",
    "If the string contains only whitespace and is not empty, it returns True.\n",
    "Otherwise, it returns False.\n",
    "\"\"\""
   ]
  },
  {
   "cell_type": "code",
   "execution_count": 9,
   "id": "9d424fad",
   "metadata": {},
   "outputs": [
    {
     "name": "stdout",
     "output_type": "stream",
     "text": [
      "True\n",
      "True\n",
      "True\n",
      "True\n",
      "False\n",
      "False\n",
      "False\n",
      "False\n"
     ]
    }
   ],
   "source": [
    "print(\"   \".isspace())   # True (only spaces)\n",
    "print(\"\\t\".isspace())    # True (tab is whitespace)\n",
    "print(\"\\n\".isspace())    # True (newline is whitespace)\n",
    "print(\" \\n\\t\".isspace()) # True (combination of whitespace)\n",
    "\n",
    "print(\"Kiran\".isspace()) # False (letters inside)\n",
    "print(\"123\".isspace())   # False (digits inside)\n",
    "print(\"Kiran Sai\".isspace()) # False (letters + space, not only whitespace)\n",
    "print(\"\".isspace())      # False (empty string)\n"
   ]
  },
  {
   "cell_type": "code",
   "execution_count": null,
   "id": "f9ac078a",
   "metadata": {},
   "outputs": [
    {
     "name": "stdout",
     "output_type": "stream",
     "text": [
      "True\n",
      "False\n",
      "True\n",
      "False\n",
      "False\n",
      "False\n",
      "True\n",
      "False\n"
     ]
    }
   ],
   "source": [
    "\"\"\"✅ str.istitle()\n",
    "\n",
    "Meaning: Returns True if the string is in title case.\n",
    "\n",
    "Title case definition in Python:\n",
    "\n",
    "Each word starts with an uppercase letter (A–Z).\n",
    "\n",
    "The rest of the characters in each word are lowercase (a–z).\n",
    "\n",
    "Returns False otherwise.\"\"\"\n",
    "\n",
    "# 🔹 Examples\n",
    "print(\"Kiran Sai\".istitle())   # True (both words start with uppercase)\n",
    "print(\"HELLO WORLD\".istitle()) # False\n",
    "print(\"Python\".istitle())      # True\n",
    "\n",
    "print(\"kiran Sai\".istitle())   # False (first word not capitalized)\n",
    "print(\"Kiran sai\".istitle())   # False (second word not capitalized properly)\n",
    "print(\"HELLO World\".istitle()) # False (first word all caps)\n",
    "print(\"123 Kiran\".istitle())   # True (numbers are ignored, but \"Kiran\" is titlecase)\n",
    "print(\"\".istitle())            # False (empty string)"
   ]
  },
  {
   "cell_type": "code",
   "execution_count": null,
   "id": "bca8dad0",
   "metadata": {},
   "outputs": [],
   "source": [
    "\"\"\"✅ str.split()\n",
    "\n",
    "Meaning: Splits a string into a list of substrings.\n",
    "\n",
    "By default, it splits on whitespace (spaces, tabs, newlines).\n",
    "\n",
    "You can also pass a separator to split on (like \",\", \"-\", \"|\", etc.).\n",
    "\n",
    "You can limit the number of splits using the optional maxsplit argument.\n",
    "\n",
    "🔹 Syntax\n",
    "string.split(separator, maxsplit)\n",
    "\n",
    "\n",
    "separator → (optional) The delimiter to split on. Default: whitespace.\n",
    "\n",
    "maxsplit → (optional) How many splits to do. Default: -1 (no limit).\"\"\""
   ]
  },
  {
   "cell_type": "code",
   "execution_count": 12,
   "id": "55904d5d",
   "metadata": {},
   "outputs": [
    {
     "name": "stdout",
     "output_type": "stream",
     "text": [
      "['Kiran', 'Sai', 'Kiran']\n",
      "['apple', 'banana', 'grape']\n",
      "['one', 'two', 'three four']\n",
      "['line1', 'line2', 'line3']\n"
     ]
    }
   ],
   "source": [
    "## examples\n",
    "\n",
    "# Default (split by whitespace)\n",
    "text = \"Kiran Sai Kiran\"\n",
    "print(text.split())  \n",
    "# ['Kiran', 'Sai', 'Kiran']\n",
    "\n",
    "# Split by a specific character\n",
    "data = \"apple,banana,grape\"\n",
    "print(data.split(\",\"))  \n",
    "# ['apple', 'banana', 'grape']\n",
    "\n",
    "# Split with maxsplit\n",
    "line = \"one two three four\"\n",
    "print(line.split(\" \", 2))  \n",
    "# ['one', 'two', 'three four']\n",
    "\n",
    "# Split on newlines\n",
    "multi = \"line1\\nline2\\nline3\"\n",
    "print(multi.split(\"\\n\"))  \n",
    "# ['line1', 'line2', 'line3']\n"
   ]
  },
  {
   "cell_type": "code",
   "execution_count": 13,
   "id": "e1add5e3",
   "metadata": {},
   "outputs": [
    {
     "name": "stdout",
     "output_type": "stream",
     "text": [
      "[]\n",
      "['a', 'b']\n",
      "[]\n"
     ]
    },
    {
     "ename": "ValueError",
     "evalue": "empty separator",
     "output_type": "error",
     "traceback": [
      "\u001b[31m---------------------------------------------------------------------------\u001b[39m",
      "\u001b[31mValueError\u001b[39m                                Traceback (most recent call last)",
      "\u001b[36mCell\u001b[39m\u001b[36m \u001b[39m\u001b[32mIn[13]\u001b[39m\u001b[32m, line 5\u001b[39m\n\u001b[32m      3\u001b[39m \u001b[38;5;28mprint\u001b[39m(\u001b[33m\"\u001b[39m\u001b[33m   a   b  \u001b[39m\u001b[33m\"\u001b[39m.split())  \u001b[38;5;66;03m# ['a', 'b']\u001b[39;00m\n\u001b[32m      4\u001b[39m \u001b[38;5;28mprint\u001b[39m(\u001b[33m\"\u001b[39m\u001b[33m\"\u001b[39m.split())         \u001b[38;5;66;03m# [] (empty string gives empty list)\u001b[39;00m\n\u001b[32m----> \u001b[39m\u001b[32m5\u001b[39m \u001b[38;5;28mprint\u001b[39m(\u001b[33;43m\"\u001b[39;49m\u001b[33;43ma b c\u001b[39;49m\u001b[33;43m\"\u001b[39;49m\u001b[43m.\u001b[49m\u001b[43msplit\u001b[49m\u001b[43m(\u001b[49m\u001b[33;43m\"\u001b[39;49m\u001b[33;43m\"\u001b[39;49m\u001b[43m)\u001b[49m)  \u001b[38;5;66;03m# ❌ Error: empty separator not allowed\u001b[39;00m\n",
      "\u001b[31mValueError\u001b[39m: empty separator"
     ]
    }
   ],
   "source": [
    "# special cases\n",
    "print(\"   \".split())      # [] → empty string after trimming whitespace\n",
    "print(\"   a   b  \".split())  # ['a', 'b']\n",
    "print(\"\".split())         # [] (empty string gives empty list)\n",
    "print(\"a b c\".split(\"\"))  # ❌ Error: empty separator not allowed\n",
    "\n"
   ]
  },
  {
   "cell_type": "code",
   "execution_count": null,
   "id": "f24bb52b",
   "metadata": {},
   "outputs": [],
   "source": [
    "\"\"\"Quick Interview Tip:\n",
    "\n",
    "split() is mostly used in parsing input, e.g., \"12,34,56\".split(\",\").\n",
    "\n",
    "Opposite of split() is join(), which combines a list back into a string.\"\"\""
   ]
  },
  {
   "cell_type": "code",
   "execution_count": null,
   "id": "0f4018a6",
   "metadata": {},
   "outputs": [],
   "source": [
    "\"\"\"✅ str.join(iterable)\n",
    "\n",
    "Meaning: Joins (concatenates) the elements of an iterable (like list, tuple, set) into a single string, with the string (on which join is called) as the separator.\n",
    "\n",
    "Opposite of split() → split() breaks a string into a list, join() combines a list into a string.\n",
    "\n",
    "🔹 Syntax\n",
    "separator.join(iterable)\n",
    "\n",
    "\n",
    "separator → string placed between each element.\n",
    "\n",
    "iterable → must contain only strings (not numbers).\n",
    "\n",
    "\n",
    "⚡ Quick Interview Tip:\n",
    "\n",
    "split() → String → List\n",
    "\n",
    "join() → List → String\n",
    "\n",
    "\"\"\""
   ]
  },
  {
   "cell_type": "code",
   "execution_count": 14,
   "id": "a3665ef5",
   "metadata": {},
   "outputs": [
    {
     "name": "stdout",
     "output_type": "stream",
     "text": [
      "Kiran Sai Kiran\n",
      "Kiran-Sai-Kiran\n",
      "KiranSaiKiran\n",
      "P_y_t_h_o_n\n",
      "Kiran\n",
      "Sai\n",
      "Kiran\n"
     ]
    }
   ],
   "source": [
    "# Join with space\n",
    "words = [\"Kiran\", \"Sai\", \"Kiran\"]\n",
    "print(\" \".join(words))  \n",
    "# 'Kiran Sai Kiran'\n",
    "\n",
    "# Join with hyphen\n",
    "print(\"-\".join(words))  \n",
    "# 'Kiran-Sai-Kiran'\n",
    "\n",
    "# Join with no separator\n",
    "print(\"\".join(words))  \n",
    "# 'KiranSaiKiran'\n",
    "\n",
    "# Join letters of a word\n",
    "print(\"_\".join(\"Python\"))  \n",
    "# 'P_y_t_h_o_n'\n",
    "\n",
    "# Join with newline\n",
    "print(\"\\n\".join(words))\n",
    "# Kiran\n",
    "# Sai\n",
    "# Kiran\n"
   ]
  },
  {
   "cell_type": "code",
   "execution_count": 15,
   "id": "4f8d8e52",
   "metadata": {},
   "outputs": [
    {
     "name": "stdout",
     "output_type": "stream",
     "text": [
      "\n",
      "a\n",
      "1,2,3\n"
     ]
    }
   ],
   "source": [
    "print(\",\".join([]))       # '' (empty list → empty string)\n",
    "print(\",\".join([\"a\"]))    # 'a' (single element, no separator used)\n",
    "\n",
    "# ❌ Error: Non-string elements\n",
    "nums = [1, 2, 3]\n",
    "# print(\",\".join(nums))   # TypeError\n",
    "# ✅ Fix: Convert to string\n",
    "print(\",\".join(map(str, nums)))  # '1,2,3'\n"
   ]
  },
  {
   "cell_type": "code",
   "execution_count": 2,
   "id": "94315d74",
   "metadata": {},
   "outputs": [
    {
     "name": "stdout",
     "output_type": "stream",
     "text": [
      "5\n"
     ]
    }
   ],
   "source": [
    "n=5\n",
    "def fib(n):\n",
    "    a,b=0,1\n",
    "    for i in range(n):\n",
    "        a,b=b,a+b\n",
    "    return a\n",
    "    \n",
    "print(fib(n))\n",
    "\n",
    "\n"
   ]
  },
  {
   "cell_type": "code",
   "execution_count": null,
   "id": "d1af1f6d",
   "metadata": {},
   "outputs": [],
   "source": [
    "\"\"\"Python List methods\n",
    "Last Updated : 23 Jul, 2025\n",
    "Python list methods are built-in functions that allow us to perform various operations on lists, such as adding, removing, or modifying elements. In this article, we’ll explore all Python list methods with a simple example.\n",
    "\n",
    "List Methods\n",
    "Let's look at different list methods in Python:\n",
    "\n",
    "append(): Adds an element to the end of the list.\n",
    "copy(): Returns a shallow copy of the list.\n",
    "clear(): Removes all elements from the list.\n",
    "count(): Returns the number of times a specified element appears in the list.\n",
    "extend(): Adds elements from another list to the end of the current list.\n",
    "index(): Returns the index of the first occurrence of a specified element.\n",
    "insert(): Inserts an element at a specified position.\n",
    "pop(): Removes and returns the element at the specified position (or the last element if no index is specified).\n",
    "remove(): Removes the first occurrence of a specified element.\n",
    "reverse(): Reverses the order of the elements in the list.\n",
    "sort(): Sorts the list in ascending order (by default).\"\"\""
   ]
  },
  {
   "cell_type": "code",
   "execution_count": null,
   "id": "4f9da53a",
   "metadata": {},
   "outputs": [
    {
     "data": {
      "text/plain": [
       "2"
      ]
     },
     "execution_count": 2,
     "metadata": {},
     "output_type": "execute_result"
    }
   ],
   "source": [
    "# 1.index()\n",
    "num=[10,23,54,71]\n",
    "t=54\n",
    "def idx(num,t):\n",
    "    for i in range(len(num)):\n",
    "        if num[i]==t:\n",
    "            return i\n",
    "idx(num,t)\n"
   ]
  },
  {
   "cell_type": "code",
   "execution_count": 5,
   "id": "7b635706",
   "metadata": {},
   "outputs": [
    {
     "name": "stdout",
     "output_type": "stream",
     "text": [
      "4\n"
     ]
    }
   ],
   "source": [
    "#2. len()\n",
    "print(len(num))\n"
   ]
  },
  {
   "cell_type": "code",
   "execution_count": 6,
   "id": "145b3012",
   "metadata": {},
   "outputs": [
    {
     "name": "stdout",
     "output_type": "stream",
     "text": [
      "1 2 3 4\n"
     ]
    }
   ],
   "source": [
    "\n",
    "a = [1, 2, 3]\n",
    "a.append(4)\n",
    "\n",
    "print(\" \".join(map(str, a)))\n"
   ]
  },
  {
   "cell_type": "code",
   "execution_count": 16,
   "id": "277bb2fd",
   "metadata": {},
   "outputs": [
    {
     "name": "stdout",
     "output_type": "stream",
     "text": [
      "100\n",
      "76\n"
     ]
    }
   ],
   "source": [
    "l=[34,43,54,73,34,2,75,3,65,76,100]\n",
    "mmax=float(\"-inf\")\n",
    "smax=float(\"-inf\")\n",
    "\n",
    "for i in range(len(l)):\n",
    "    if l[i]>mmax:\n",
    "        smax=mmax\n",
    "        mmax=l[i]\n",
    "    elif l[i]>smax and l[i] < mmax:\n",
    "        smax=l[i]\n",
    "\n",
    "print(mmax)\n",
    "print(smax)\n"
   ]
  },
  {
   "cell_type": "code",
   "execution_count": null,
   "id": "d8f670e9",
   "metadata": {},
   "outputs": [],
   "source": [
    "\"\"\"\n",
    "list_name.sort()  merge,quick\n",
    "\n",
    "l.sort(key=len)\n",
    "\"\"\""
   ]
  },
  {
   "cell_type": "code",
   "execution_count": null,
   "id": "e08f33c1",
   "metadata": {},
   "outputs": [],
   "source": [
    "s=\"hello world\""
   ]
  },
  {
   "cell_type": "code",
   "execution_count": 1,
   "id": "f651e7dc",
   "metadata": {},
   "outputs": [
    {
     "name": "stdout",
     "output_type": "stream",
     "text": [
      "9\n"
     ]
    }
   ],
   "source": [
    "l=[100,10,99,9,999]\n",
    "fmin=float(\"inf\")\n",
    "for i in l:\n",
    "    if i<fmin:\n",
    "        fmin=i\n",
    "\n",
    "print(fmin)"
   ]
  },
  {
   "cell_type": "code",
   "execution_count": 7,
   "id": "634b5fbd",
   "metadata": {},
   "outputs": [
    {
     "name": "stdout",
     "output_type": "stream",
     "text": [
      "9 10\n"
     ]
    }
   ],
   "source": [
    "l=[100,10,99,9,999]\n",
    "fmin=float(\"inf\")\n",
    "smin= float(\"inf\")\n",
    "for i in l:\n",
    "    if i<=fmin:\n",
    "        smin=fmin\n",
    "        fmin=i\n",
    "    elif i<smin and i>fmin:\n",
    "        smin=i\n",
    "\n",
    "print(fmin, smin)"
   ]
  },
  {
   "cell_type": "code",
   "execution_count": 8,
   "id": "1ad59d94",
   "metadata": {},
   "outputs": [
    {
     "name": "stdout",
     "output_type": "stream",
     "text": [
      "1 x 1 = 1 \n",
      "1 x 2 = 2 \n",
      "1 x 3 = 3 \n",
      "1 x 4 = 4 \n",
      "1 x 5 = 5 \n",
      "1 x 6 = 6 \n",
      "1 x 7 = 7 \n",
      "1 x 8 = 8 \n",
      "1 x 9 = 9 \n",
      "1 x 10 = 10 \n",
      "\n",
      "2 x 1 = 2 \n",
      "2 x 2 = 4 \n",
      "2 x 3 = 6 \n",
      "2 x 4 = 8 \n",
      "2 x 5 = 10 \n",
      "2 x 6 = 12 \n",
      "2 x 7 = 14 \n",
      "2 x 8 = 16 \n",
      "2 x 9 = 18 \n",
      "2 x 10 = 20 \n",
      "\n",
      "3 x 1 = 3 \n",
      "3 x 2 = 6 \n",
      "3 x 3 = 9 \n",
      "3 x 4 = 12 \n",
      "3 x 5 = 15 \n",
      "3 x 6 = 18 \n",
      "3 x 7 = 21 \n",
      "3 x 8 = 24 \n",
      "3 x 9 = 27 \n",
      "3 x 10 = 30 \n",
      "\n",
      "4 x 1 = 4 \n",
      "4 x 2 = 8 \n",
      "4 x 3 = 12 \n",
      "4 x 4 = 16 \n",
      "4 x 5 = 20 \n",
      "4 x 6 = 24 \n",
      "4 x 7 = 28 \n",
      "4 x 8 = 32 \n",
      "4 x 9 = 36 \n",
      "4 x 10 = 40 \n",
      "\n",
      "5 x 1 = 5 \n",
      "5 x 2 = 10 \n",
      "5 x 3 = 15 \n",
      "5 x 4 = 20 \n",
      "5 x 5 = 25 \n",
      "5 x 6 = 30 \n",
      "5 x 7 = 35 \n",
      "5 x 8 = 40 \n",
      "5 x 9 = 45 \n",
      "5 x 10 = 50 \n",
      "\n",
      "6 x 1 = 6 \n",
      "6 x 2 = 12 \n",
      "6 x 3 = 18 \n",
      "6 x 4 = 24 \n",
      "6 x 5 = 30 \n",
      "6 x 6 = 36 \n",
      "6 x 7 = 42 \n",
      "6 x 8 = 48 \n",
      "6 x 9 = 54 \n",
      "6 x 10 = 60 \n",
      "\n",
      "7 x 1 = 7 \n",
      "7 x 2 = 14 \n",
      "7 x 3 = 21 \n",
      "7 x 4 = 28 \n",
      "7 x 5 = 35 \n",
      "7 x 6 = 42 \n",
      "7 x 7 = 49 \n",
      "7 x 8 = 56 \n",
      "7 x 9 = 63 \n",
      "7 x 10 = 70 \n",
      "\n",
      "8 x 1 = 8 \n",
      "8 x 2 = 16 \n",
      "8 x 3 = 24 \n",
      "8 x 4 = 32 \n",
      "8 x 5 = 40 \n",
      "8 x 6 = 48 \n",
      "8 x 7 = 56 \n",
      "8 x 8 = 64 \n",
      "8 x 9 = 72 \n",
      "8 x 10 = 80 \n",
      "\n",
      "9 x 1 = 9 \n",
      "9 x 2 = 18 \n",
      "9 x 3 = 27 \n",
      "9 x 4 = 36 \n",
      "9 x 5 = 45 \n",
      "9 x 6 = 54 \n",
      "9 x 7 = 63 \n",
      "9 x 8 = 72 \n",
      "9 x 9 = 81 \n",
      "9 x 10 = 90 \n",
      "\n",
      "10 x 1 = 10 \n",
      "10 x 2 = 20 \n",
      "10 x 3 = 30 \n",
      "10 x 4 = 40 \n",
      "10 x 5 = 50 \n",
      "10 x 6 = 60 \n",
      "10 x 7 = 70 \n",
      "10 x 8 = 80 \n",
      "10 x 9 = 90 \n",
      "10 x 10 = 100 \n",
      "\n"
     ]
    }
   ],
   "source": [
    "n=10\n",
    "for j in range(1,n+1):\n",
    "    for i in range(1,11):\n",
    "        print(f'{j} x {i} = {j*i} ')\n",
    "    print()\n"
   ]
  },
  {
   "cell_type": "code",
   "execution_count": 9,
   "id": "4baffaee",
   "metadata": {},
   "outputs": [
    {
     "name": "stdout",
     "output_type": "stream",
     "text": [
      "1 x 1 = 1 \n",
      "2 x 2 = 4 \n",
      "3 x 3 = 9 \n",
      "4 x 4 = 16 \n",
      "5 x 5 = 25 \n",
      "6 x 6 = 36 \n",
      "7 x 7 = 49 \n",
      "8 x 8 = 64 \n",
      "9 x 9 = 81 \n",
      "10 x 10 = 100 \n",
      "\n",
      "1 x 1 = 1 \n",
      "2 x 2 = 4 \n",
      "3 x 3 = 9 \n",
      "4 x 4 = 16 \n",
      "5 x 5 = 25 \n",
      "6 x 6 = 36 \n",
      "7 x 7 = 49 \n",
      "8 x 8 = 64 \n",
      "9 x 9 = 81 \n",
      "10 x 10 = 100 \n",
      "\n",
      "1 x 1 = 1 \n",
      "2 x 2 = 4 \n",
      "3 x 3 = 9 \n",
      "4 x 4 = 16 \n",
      "5 x 5 = 25 \n",
      "6 x 6 = 36 \n",
      "7 x 7 = 49 \n",
      "8 x 8 = 64 \n",
      "9 x 9 = 81 \n",
      "10 x 10 = 100 \n",
      "\n",
      "1 x 1 = 1 \n",
      "2 x 2 = 4 \n",
      "3 x 3 = 9 \n",
      "4 x 4 = 16 \n",
      "5 x 5 = 25 \n",
      "6 x 6 = 36 \n",
      "7 x 7 = 49 \n",
      "8 x 8 = 64 \n",
      "9 x 9 = 81 \n",
      "10 x 10 = 100 \n",
      "\n",
      "1 x 1 = 1 \n",
      "2 x 2 = 4 \n",
      "3 x 3 = 9 \n",
      "4 x 4 = 16 \n",
      "5 x 5 = 25 \n",
      "6 x 6 = 36 \n",
      "7 x 7 = 49 \n",
      "8 x 8 = 64 \n",
      "9 x 9 = 81 \n",
      "10 x 10 = 100 \n",
      "\n",
      "1 x 1 = 1 \n",
      "2 x 2 = 4 \n",
      "3 x 3 = 9 \n",
      "4 x 4 = 16 \n",
      "5 x 5 = 25 \n",
      "6 x 6 = 36 \n",
      "7 x 7 = 49 \n",
      "8 x 8 = 64 \n",
      "9 x 9 = 81 \n",
      "10 x 10 = 100 \n",
      "\n",
      "1 x 1 = 1 \n",
      "2 x 2 = 4 \n",
      "3 x 3 = 9 \n",
      "4 x 4 = 16 \n",
      "5 x 5 = 25 \n",
      "6 x 6 = 36 \n",
      "7 x 7 = 49 \n",
      "8 x 8 = 64 \n",
      "9 x 9 = 81 \n",
      "10 x 10 = 100 \n",
      "\n",
      "1 x 1 = 1 \n",
      "2 x 2 = 4 \n",
      "3 x 3 = 9 \n",
      "4 x 4 = 16 \n",
      "5 x 5 = 25 \n",
      "6 x 6 = 36 \n",
      "7 x 7 = 49 \n",
      "8 x 8 = 64 \n",
      "9 x 9 = 81 \n",
      "10 x 10 = 100 \n",
      "\n",
      "1 x 1 = 1 \n",
      "2 x 2 = 4 \n",
      "3 x 3 = 9 \n",
      "4 x 4 = 16 \n",
      "5 x 5 = 25 \n",
      "6 x 6 = 36 \n",
      "7 x 7 = 49 \n",
      "8 x 8 = 64 \n",
      "9 x 9 = 81 \n",
      "10 x 10 = 100 \n",
      "\n",
      "1 x 1 = 1 \n",
      "2 x 2 = 4 \n",
      "3 x 3 = 9 \n",
      "4 x 4 = 16 \n",
      "5 x 5 = 25 \n",
      "6 x 6 = 36 \n",
      "7 x 7 = 49 \n",
      "8 x 8 = 64 \n",
      "9 x 9 = 81 \n",
      "10 x 10 = 100 \n",
      "\n"
     ]
    }
   ],
   "source": [
    "n=10\n",
    "for i in range(1,n+1):\n",
    "    for i in range(1,11):\n",
    "        print(f'{i} x {i} = {i*i} ')\n",
    "    print()\n"
   ]
  },
  {
   "cell_type": "code",
   "execution_count": null,
   "id": "1b14acad",
   "metadata": {},
   "outputs": [],
   "source": [
    "\"\"\" n=int(input())\n",
    "    s=input()\n",
    "    a,b,c=map(int,input().split())\n",
    "    l=list(map(int,input().split()))\n",
    "\n",
    "\n",
    "\"\"\""
   ]
  },
  {
   "cell_type": "code",
   "execution_count": null,
   "id": "e45eb40c",
   "metadata": {},
   "outputs": [
    {
     "name": "stdout",
     "output_type": "stream",
     "text": [
      "[10, 23, 0, 4]\n"
     ]
    }
   ],
   "source": [
    "l1=list(map(int,input().split()))\n",
    "print(l1)\n"
   ]
  },
  {
   "cell_type": "code",
   "execution_count": 22,
   "id": "468975b0",
   "metadata": {},
   "outputs": [
    {
     "name": "stdout",
     "output_type": "stream",
     "text": [
      "[[10, 12, 12, 14], [1, 2, 3, 4], [1, 2, 3, 5]]\n"
     ]
    }
   ],
   "source": [
    "l2=[]\n",
    "n=3\n",
    "for i in range(n):\n",
    "    l1=list(map(int,input().split()))\n",
    "    l2.append(l1)\n",
    "print(l2)"
   ]
  },
  {
   "cell_type": "code",
   "execution_count": 23,
   "id": "dd9302a9",
   "metadata": {},
   "outputs": [
    {
     "name": "stdout",
     "output_type": "stream",
     "text": [
      "* \n",
      "* * \n",
      "* * * \n",
      "* * * * \n"
     ]
    }
   ],
   "source": [
    "n=4\n",
    "for i in range(n):\n",
    "    for j in range(i+1):\n",
    "        print(\"*\",end=\" \")\n",
    "    print()\n"
   ]
  },
  {
   "cell_type": "code",
   "execution_count": 2,
   "id": "cfd96f29",
   "metadata": {},
   "outputs": [
    {
     "name": "stdout",
     "output_type": "stream",
     "text": [
      "False\n"
     ]
    }
   ],
   "source": [
    "def primes(n):\n",
    "    if n<2:\n",
    "        return False\n",
    "    for i in range(2,n):\n",
    "        if n%i==0:\n",
    "            return False\n",
    "    return True\n",
    "\n",
    "n=int(input(\"enter:\"))\n",
    "print(primes(n))"
   ]
  },
  {
   "cell_type": "code",
   "execution_count": 8,
   "id": "1694df66",
   "metadata": {},
   "outputs": [
    {
     "name": "stdout",
     "output_type": "stream",
     "text": [
      "7\n"
     ]
    }
   ],
   "source": [
    "def primes(n):\n",
    "    if n<2:\n",
    "        return False\n",
    "    for i in range(2,n):\n",
    "        if n%i==0:\n",
    "            return False\n",
    "    return True\n",
    "\n",
    "n=int(input(\"enter:\"))\n",
    "def near_prime(n):\n",
    "    if primes(n):\n",
    "        return n\n",
    "    l=n-1\n",
    "    h=n+1\n",
    "    while True:\n",
    "        if l>1 and primes(l):\n",
    "            return l\n",
    "        if primes(h):\n",
    "            return h\n",
    "        l-=1\n",
    "        h+=1\n",
    "\n",
    "print(near_prime(n))"
   ]
  }
 ],
 "metadata": {
  "kernelspec": {
   "display_name": "Python 3",
   "language": "python",
   "name": "python3"
  },
  "language_info": {
   "codemirror_mode": {
    "name": "ipython",
    "version": 3
   },
   "file_extension": ".py",
   "mimetype": "text/x-python",
   "name": "python",
   "nbconvert_exporter": "python",
   "pygments_lexer": "ipython3",
   "version": "3.13.6"
  }
 },
 "nbformat": 4,
 "nbformat_minor": 5
}
