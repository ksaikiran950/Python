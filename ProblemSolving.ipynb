{
 "cells": [
  {
   "cell_type": "markdown",
   "id": "1796fa78",
   "metadata": {
    "vscode": {
     "languageId": "javascript"
    }
   },
   "source": [
    "Problem solving :- looping statnents"
   ]
  },
  {
   "cell_type": "code",
   "execution_count": 3,
   "id": "51f42109",
   "metadata": {},
   "outputs": [
    {
     "name": "stdout",
     "output_type": "stream",
     "text": [
      "6\n"
     ]
    }
   ],
   "source": [
    "n=123\n",
    "m=str(n)\n",
    "sum=0\n",
    "for i in m:\n",
    "    sum+=int(i)\n",
    "print(sum)"
   ]
  },
  {
   "cell_type": "code",
   "execution_count": 10,
   "id": "a64fce88",
   "metadata": {},
   "outputs": [
    {
     "name": "stdout",
     "output_type": "stream",
     "text": [
      "a3b2c2d1\n"
     ]
    }
   ],
   "source": [
    "s=\"aaabbccd\"\n",
    "res=\"\"\n",
    "for ch in s:\n",
    "    if ch not in res:\n",
    "        count=0\n",
    "        for e in s:\n",
    "            if e ==ch:\n",
    "                count+=1\n",
    "\n",
    "        res=res+f\"{ch}{count}\"\n",
    "print(res)"
   ]
  },
  {
   "cell_type": "code",
   "execution_count": null,
   "id": "483eef63",
   "metadata": {},
   "outputs": [],
   "source": [
    "s = \"aaabbccd\"\n",
    "res = \"\"\n",
    "\n",
    "for i in range(len(s)):\n",
    "    ch = s[i]\n",
    "    if ch not in res:        # ensures we only count first time\n",
    "        count = 0\n",
    "        for j in range(len(s)):\n",
    "            if s[j] == ch:\n",
    "                count += 1\n",
    "        res += f\"{ch}{count}\"\n",
    "\n",
    "print(res)"
   ]
  },
  {
   "cell_type": "code",
   "execution_count": 7,
   "id": "233e4df2",
   "metadata": {},
   "outputs": [
    {
     "name": "stdout",
     "output_type": "stream",
     "text": [
      "a4b4c2\n"
     ]
    }
   ],
   "source": [
    "ip = \"aabbaaccbb\"\n",
    "output = \"\"\n",
    "for ch in set(ip):\n",
    "    cnt = 0\n",
    "    for c in ip:\n",
    "        if c == ch:\n",
    "            cnt += 1\n",
    "    output += f\"{ch}{cnt}\"\n",
    "print(output)"
   ]
  },
  {
   "cell_type": "code",
   "execution_count": 41,
   "id": "834e1258",
   "metadata": {},
   "outputs": [
    {
     "name": "stdout",
     "output_type": "stream",
     "text": [
      "a2b3a2c2b2\n"
     ]
    }
   ],
   "source": [
    "s= \"aabbbaaccbb\"\n",
    "res=s[0]\n",
    "c=1\n",
    "for i in range(1,len(s)):\n",
    "    if s[i]==s[i-1]:\n",
    "        c+=1\n",
    "    else:\n",
    "        res=res+str(c)+s[i]\n",
    "        c=1\n",
    "res+=str(c)\n",
    "print(res)\n",
    "\n"
   ]
  },
  {
   "cell_type": "code",
   "execution_count": null,
   "id": "65099188",
   "metadata": {},
   "outputs": [
    {
     "name": "stdout",
     "output_type": "stream",
     "text": [
      "102\n"
     ]
    }
   ],
   "source": [
    "a=10\n",
    "b=2\n",
    "c=8\n",
    "if a>b and a>c:\n",
    "    if b>c:\n",
    "        print(a+b)\n",
    "    else:\n",
    "        print(a+c)\n",
    "elif b>a and b>c:\n",
    "    if a>c:\n",
    "        print(b+a)\n",
    "    else:\n",
    "        print(b+c)\n",
    "else:\n",
    "    if a>b:\n",
    "        print(c+a)\n",
    "    else:\n",
    "        print(c+b)\n"
   ]
  },
  {
   "cell_type": "code",
   "execution_count": 59,
   "id": "33e982dd",
   "metadata": {},
   "outputs": [
    {
     "name": "stdout",
     "output_type": "stream",
     "text": [
      "[4, 5, 1, 2, 3]\n"
     ]
    }
   ],
   "source": [
    "l=[1,2,3,4,5]\n",
    "l1=l[len(l)-2::]+l[0:len(l)-2]\n",
    "print(l1)"
   ]
  },
  {
   "cell_type": "code",
   "execution_count": 60,
   "id": "c60da919",
   "metadata": {},
   "outputs": [
    {
     "name": "stdout",
     "output_type": "stream",
     "text": [
      "[4, 5, 1, 2, 3]\n"
     ]
    }
   ],
   "source": [
    "l=[1,2,3,4,5]\n",
    "l1=[]\n",
    "l1.append(l[-2])\n",
    "l1.append(l[-1])\n",
    "l.remove(l[-2])\n",
    "l.remove(l[-1])\n",
    "l1=l1+l\n",
    "print(l1)"
   ]
  },
  {
   "cell_type": "code",
   "execution_count": 10,
   "id": "e8cad050",
   "metadata": {},
   "outputs": [
    {
     "name": "stdout",
     "output_type": "stream",
     "text": [
      "False\n"
     ]
    }
   ],
   "source": [
    "s = \"[()[]{]\"\n",
    "def is_balanced(s):\n",
    "    st=[]\n",
    "    for c in s:\n",
    "        if c ==\"(\" or c==\"{\" or c==\"[\":\n",
    "            st.append(c)\n",
    "        elif c ==\")\" or c==\"}\" or c==\"]\":\n",
    "            if not st:\n",
    "                return False\n",
    "            top=st.pop()\n",
    "            if (c == ')' and top != '(') or (c == '}' and top != '{') or (c == ']' and top != '['):\n",
    "                return False\n",
    "    return not st\n",
    "print(is_balanced(s))\n"
   ]
  },
  {
   "cell_type": "code",
   "execution_count": 4,
   "id": "a4744c61",
   "metadata": {},
   "outputs": [
    {
     "name": "stdout",
     "output_type": "stream",
     "text": [
      "1 2\n"
     ]
    }
   ],
   "source": [
    "l1=[1,17,4,1,3,5,2,2]\n",
    "sm=float(\"inf\")\n",
    "\n",
    "\n",
    "ssm=float(\"inf\")\n",
    "for ch in l1:\n",
    "    if ch<sm:\n",
    "        ssm=sm\n",
    "        sm=ch\n",
    "    elif ch<ssm and ch !=sm:\n",
    "        ssm=ch\n",
    "print(sm,ssm)"
   ]
  },
  {
   "cell_type": "code",
   "execution_count": 5,
   "id": "89875fe6",
   "metadata": {},
   "outputs": [
    {
     "name": "stdout",
     "output_type": "stream",
     "text": [
      "wolleh\n",
      "h\n",
      "l\n",
      "o\n"
     ]
    }
   ],
   "source": [
    "s=\"helloworld\"\n",
    "s=s[5::-1]\n",
    "print(s)\n",
    "\n",
    "for i in range(len(s)-1,-1,-2):\n",
    "    print(s[i])"
   ]
  },
  {
   "cell_type": "code",
   "execution_count": null,
   "id": "b220cd20",
   "metadata": {},
   "outputs": [
    {
     "name": "stdout",
     "output_type": "stream",
     "text": [
      "prime\n"
     ]
    }
   ],
   "source": [
    "x=23\n",
    "flag=1\n",
    "for i in range(2,x):\n",
    "    if x%i==0:\n",
    "        flag=0\n",
    "        break\n",
    "if flag==0:\n",
    "    print(\"not a prime\")\n",
    "else:\n",
    "    print(\"prime\")\n"
   ]
  },
  {
   "cell_type": "code",
   "execution_count": null,
   "id": "1e2fcf20",
   "metadata": {},
   "outputs": [
    {
     "data": {
      "text/plain": [
       "True"
      ]
     },
     "execution_count": 28,
     "metadata": {},
     "output_type": "execute_result"
    }
   ],
   "source": [
    "x=23\n",
    "def is_prime(x):\n",
    "    if x<=1:\n",
    "        return False    \n",
    "    for i in range(2,x):\n",
    "        if x%i==0:\n",
    "            return False\n",
    "    return True\n",
    "is_prime(x)"
   ]
  },
  {
   "cell_type": "code",
   "execution_count": 33,
   "id": "199ad61f",
   "metadata": {},
   "outputs": [
    {
     "name": "stdout",
     "output_type": "stream",
     "text": [
      "[2, 3, 5, 7, 11, 13, 17, 19, 23]\n",
      "{1: 1, 2: 4, 3: 9, 4: 16, 5: 25, 6: 36, 7: 49, 8: 64, 9: 81, 10: 100, 11: 121, 12: 144, 13: 169, 14: 196, 15: 225, 16: 256, 17: 289, 18: 324, 19: 361, 20: 400, 21: 441, 22: 484, 23: 529, 24: 576}\n"
     ]
    }
   ],
   "source": [
    "# make a list of prime numbers within a range  1 to 25 using comprehension\n",
    "op=[x for x in range(1,25) if is_prime(x)]\n",
    "print(op)\n",
    "op={x:x**2 for x in range(1,25)}\n",
    "print(op)"
   ]
  },
  {
   "cell_type": "code",
   "execution_count": 41,
   "id": "bda374db",
   "metadata": {},
   "outputs": [
    {
     "name": "stdout",
     "output_type": "stream",
     "text": [
      "((2, 4), (3, 9), (4, 16), (5, 25))\n"
     ]
    }
   ],
   "source": [
    "res=tuple((x,x**2) for x in range(2,6))\n",
    "print(res)"
   ]
  },
  {
   "cell_type": "code",
   "execution_count": null,
   "id": "e19dd68a",
   "metadata": {},
   "outputs": [],
   "source": [
    "# l1=[\"sravani\",\"sravan\",\"kumar\",\"kumari\",\"laxman\",\"arjun\",]\n",
    "# (('sravani,'female')"
   ]
  },
  {
   "cell_type": "code",
   "execution_count": 1,
   "id": "be9210dc",
   "metadata": {},
   "outputs": [
    {
     "name": "stdout",
     "output_type": "stream",
     "text": [
      "prime\n"
     ]
    }
   ],
   "source": [
    "n=13\n",
    "def is_prime(x):\n",
    "    if x<=1:\n",
    "        return False\n",
    "    for i in range(2,x):\n",
    "        if x%i==0:\n",
    "            return False\n",
    "    return True\n",
    "if is_prime(n):\n",
    "    print(\"prime\")\n",
    "else:\n",
    "    print(\"not prime\")"
   ]
  },
  {
   "cell_type": "code",
   "execution_count": 4,
   "id": "2253e956",
   "metadata": {},
   "outputs": [
    {
     "name": "stdout",
     "output_type": "stream",
     "text": [
      "1 not prime\n",
      "2 prime\n",
      "3 prime\n",
      "4 not prime\n",
      "5 prime\n",
      "6 not prime\n",
      "7 prime\n",
      "8 not prime\n",
      "9 not prime\n",
      "10 not prime\n",
      "11 prime\n",
      "12 not prime\n",
      "13 prime\n",
      "14 not prime\n",
      "15 not prime\n",
      "16 not prime\n",
      "17 prime\n",
      "18 not prime\n",
      "19 prime\n",
      "20 not prime\n",
      "21 not prime\n",
      "22 not prime\n",
      "23 prime\n",
      "24 not prime\n"
     ]
    }
   ],
   "source": [
    "n=25\n",
    "def is_prime(x):\n",
    "    if x<=1:\n",
    "        return False\n",
    "    for i in range(2,x):\n",
    "        if x%i==0:\n",
    "            return False\n",
    "    return True\n",
    "for i in range(1,n):\n",
    "    if is_prime(i):\n",
    "        print(i,\"prime\")\n",
    "    else:\n",
    "        print(i,\"not prime\")"
   ]
  },
  {
   "cell_type": "code",
   "execution_count": 15,
   "id": "32ec8f78",
   "metadata": {},
   "outputs": [
    {
     "name": "stdout",
     "output_type": "stream",
     "text": [
      "0 1 1 2 3 "
     ]
    }
   ],
   "source": [
    "n=5\n",
    "a=0\n",
    "b=1\n",
    "print(a,b,end=\" \")\n",
    "for i in range(n-2):\n",
    "    c=a+b\n",
    "    a=b\n",
    "    b=c\n",
    "    print(c,end=\" \")\n"
   ]
  },
  {
   "cell_type": "code",
   "execution_count": 20,
   "id": "3c071aa0",
   "metadata": {},
   "outputs": [
    {
     "name": "stdout",
     "output_type": "stream",
     "text": [
      "0 1 1 2 3 "
     ]
    }
   ],
   "source": [
    "n=5\n",
    "a,b =0,1\n",
    "for i in range(n):\n",
    "    print(a,end=\" \")\n",
    "    a,b=b,a+b"
   ]
  },
  {
   "cell_type": "code",
   "execution_count": 23,
   "id": "94e0b172",
   "metadata": {},
   "outputs": [
    {
     "name": "stdout",
     "output_type": "stream",
     "text": [
      "5\n"
     ]
    }
   ],
   "source": [
    "n=5\n",
    "def fib(x):\n",
    "    a,b =0,1\n",
    "    for i in range(x):\n",
    "        a,b=b,a+b\n",
    "    return a\n",
    "print(fib(n))\n",
    "     "
   ]
  },
  {
   "cell_type": "code",
   "execution_count": 29,
   "id": "c1275cf4",
   "metadata": {},
   "outputs": [
    {
     "name": "stdout",
     "output_type": "stream",
     "text": [
      "not arm\n"
     ]
    }
   ],
   "source": [
    "n=152\n",
    "def d_count(n):\n",
    "    e=n\n",
    "    count=0\n",
    "    while e>0:\n",
    "        count+=1\n",
    "        e//=10\n",
    "    return count\n",
    "\n",
    "def armstrong(n):\n",
    "    x=n\n",
    "    res=0\n",
    "    while x>0:\n",
    "        d=x%10\n",
    "        res=res+d**d_count(n)\n",
    "        x//=10\n",
    "    return res\n",
    "if n==armstrong(n):\n",
    "    print(\"armstrong\")\n",
    "else:\n",
    "    print(\"not arm\")\n",
    "\n"
   ]
  },
  {
   "cell_type": "code",
   "execution_count": 1,
   "id": "e9b342e9",
   "metadata": {},
   "outputs": [
    {
     "name": "stdout",
     "output_type": "stream",
     "text": [
      "first 41\n",
      "second 19\n"
     ]
    }
   ],
   "source": [
    "\"\"\"Task:\n",
    "find largest and second largest from given list of numbers.\n",
    "ip=['sravani','sravan','kumar','kumari','lalitha','lalith','arjun','lakshmi','nandini']\n",
    "op=[(('sravani','female'),('sravan','male'),('kumar','male'))\n",
    "\"\"\"\n",
    "\n",
    "\n",
    "l1=[5,8,7,6,41,19,15]\n",
    "fl=l1[0]\n",
    "sl=l1[0]\n",
    "for e in l1:\n",
    "    if e>fl:\n",
    "        sl=fl\n",
    "        fl=e\n",
    "    elif e>sl and e !=fl:\n",
    "        sl=e\n",
    "print(\"first\",fl)\n",
    "print(\"second\",sl)"
   ]
  },
  {
   "cell_type": "code",
   "execution_count": null,
   "id": "f8e0c027",
   "metadata": {},
   "outputs": [
    {
     "name": "stdout",
     "output_type": "stream",
     "text": [
      "(('sravani', 'female'), ('sravan', 'male'), ('kumar', 'male'), ('kumari', 'female'), ('lalitha', 'female'), ('lalith', 'male'), ('arjun', 'male'), ('lakshmi', 'female'), ('nandini', 'female'))\n"
     ]
    }
   ],
   "source": [
    "def gender(name):\n",
    "    if name[-1] in \"ai\": #check last char is \"i\" or \"a\" \n",
    "        return (name, \"female\")\n",
    "        \n",
    "    return (name, \"male\")    \n",
    "\n",
    "\n",
    "ip=['sravani','sravan','kumar','kumari','lalitha','lalith','arjun','lakshmi','nandini']\n",
    "op = tuple(gender(name) for name in ip)\n",
    "print(op)"
   ]
  }
 ],
 "metadata": {
  "kernelspec": {
   "display_name": "Python 3",
   "language": "python",
   "name": "python3"
  },
  "language_info": {
   "codemirror_mode": {
    "name": "ipython",
    "version": 3
   },
   "file_extension": ".py",
   "mimetype": "text/x-python",
   "name": "python",
   "nbconvert_exporter": "python",
   "pygments_lexer": "ipython3",
   "version": "3.13.6"
  }
 },
 "nbformat": 4,
 "nbformat_minor": 5
}
