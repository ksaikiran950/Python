{
 "cells": [
  {
   "cell_type": "markdown",
   "id": "de0e3db2",
   "metadata": {},
   "source": [
    "\n",
    "### ✅ Easy Python List Questions (Numbered)"
   ]
  },
  {
   "cell_type": "code",
   "execution_count": 1,
   "id": "8163ec59",
   "metadata": {},
   "outputs": [],
   "source": [
    "# 1. Create a list of 5 integers  \n",
    "list1=[5,8,6,4,9]"
   ]
  },
  {
   "cell_type": "code",
   "execution_count": 2,
   "id": "9ac94b8b",
   "metadata": {},
   "outputs": [
    {
     "name": "stdout",
     "output_type": "stream",
     "text": [
      "hi\n"
     ]
    }
   ],
   "source": [
    "# 2. Access the 3rd element of a list\n",
    "list2=[\"kiran\",1,3,'hi',9]\n",
    "print(list2[3])"
   ]
  },
  {
   "cell_type": "code",
   "execution_count": 1,
   "id": "5f2b179b",
   "metadata": {},
   "outputs": [
    {
     "name": "stdout",
     "output_type": "stream",
     "text": [
      "['hi', 'hello', 'python', 2, 4]\n"
     ]
    }
   ],
   "source": [
    "# 3. Change the value at index 2  \n",
    "list3=['hi','hello','world',2,4]\n",
    "list3[2]=\"python\"\n",
    "print(list3)\n"
   ]
  },
  {
   "cell_type": "code",
   "execution_count": 3,
   "id": "9cc4d0e5",
   "metadata": {},
   "outputs": [
    {
     "name": "stdout",
     "output_type": "stream",
     "text": [
      "['hi', 'karthik', 'ramesh', 'suresh']\n"
     ]
    }
   ],
   "source": [
    "\n",
    "#4. Append an element to the list  \n",
    "lst=['hi','karthik','ramesh']\n",
    "lst.append('suresh')\n",
    "print(lst)\n"
   ]
  },
  {
   "cell_type": "code",
   "execution_count": 4,
   "id": "c61b62bd",
   "metadata": {},
   "outputs": [
    {
     "name": "stdout",
     "output_type": "stream",
     "text": [
      "['hi', 'Laxman', 'karthik', 'ramesh']\n"
     ]
    }
   ],
   "source": [
    "#5. Insert an element at index 1  \n",
    "lst=['hi','karthik','ramesh']\n",
    "lst.insert(1,\"Laxman\")\n",
    "print(lst)\n",
    "\n"
   ]
  },
  {
   "cell_type": "code",
   "execution_count": 5,
   "id": "0f447321",
   "metadata": {},
   "outputs": [
    {
     "name": "stdout",
     "output_type": "stream",
     "text": [
      "[2, 3, 5, 6, 8]\n"
     ]
    }
   ],
   "source": [
    "# 6. Remove an element by value  \n",
    "lst1=[2,3,5,6,7,8]\n",
    "lst1.remove(7)\n",
    "print(lst1)\n"
   ]
  },
  {
   "cell_type": "code",
   "execution_count": 9,
   "id": "b8f2664a",
   "metadata": {},
   "outputs": [
    {
     "name": "stdout",
     "output_type": "stream",
     "text": [
      "['hi', 'ramesh']\n"
     ]
    }
   ],
   "source": [
    "#7. Remove an element by index  \n",
    "lst=['hi','karthik','ramesh']\n",
    "lst.remove(lst[1])\n",
    "print(lst)"
   ]
  },
  {
   "cell_type": "code",
   "execution_count": 10,
   "id": "5acff0a8",
   "metadata": {},
   "outputs": [
    {
     "name": "stdout",
     "output_type": "stream",
     "text": [
      "4\n"
     ]
    }
   ],
   "source": [
    "#8. Find the length of a list  \n",
    "lst=['hi','karthik','ramesh','suresh']\n",
    "print(len(lst))\n"
   ]
  },
  {
   "cell_type": "code",
   "execution_count": 11,
   "id": "ba617886",
   "metadata": {},
   "outputs": [
    {
     "name": "stdout",
     "output_type": "stream",
     "text": [
      "True\n"
     ]
    }
   ],
   "source": [
    "#9. Check if an element exists in a list  \n",
    "lst=['hi','karthik','ramesh','suresh','world']\n",
    "ee='world'\n",
    "if ee in lst:\n",
    "    print(True)\n",
    "else:\n",
    "    print(False)\n"
   ]
  },
  {
   "cell_type": "code",
   "execution_count": 12,
   "id": "cc707871",
   "metadata": {},
   "outputs": [
    {
     "name": "stdout",
     "output_type": "stream",
     "text": [
      "hi\n",
      "karthik\n",
      "ramesh\n",
      "suresh\n",
      "world\n"
     ]
    }
   ],
   "source": [
    "#10. Loop through a list and print each item  \n",
    "lst=['hi','karthik','ramesh','suresh','world']\n",
    "for item in lst:\n",
    "    print(item)\n"
   ]
  },
  {
   "cell_type": "code",
   "execution_count": 13,
   "id": "a68bce11",
   "metadata": {},
   "outputs": [
    {
     "name": "stdout",
     "output_type": "stream",
     "text": [
      "[1, 2, 3, 4, 5, 7, 8, 9]\n"
     ]
    }
   ],
   "source": [
    "#11. Sort a list in ascending order  \n",
    "lst2=[4,5,8,1,2,3,7,9,]\n",
    "lst2.sort()\n",
    "print(lst2)\n"
   ]
  },
  {
   "cell_type": "code",
   "execution_count": null,
   "id": "0370cece",
   "metadata": {},
   "outputs": [
    {
     "name": "stdout",
     "output_type": "stream",
     "text": [
      "[9, 8, 7, 5, 4, 3, 2, 1]\n"
     ]
    }
   ],
   "source": [
    "## 12. Sort a list in descending order  \n",
    "lst2=[4,5,8,1,2,3,7,9,]\n",
    "lst2.sort(reverse=True)\n",
    "print(lst2)\n"
   ]
  },
  {
   "cell_type": "code",
   "execution_count": 16,
   "id": "0cec128c",
   "metadata": {},
   "outputs": [
    {
     "name": "stdout",
     "output_type": "stream",
     "text": [
      "['world', 'suresh', 'ramesh', 'karthik', 'hi']\n"
     ]
    }
   ],
   "source": [
    "# 13. Reverse a list using reverse()  \n",
    "lst=['hi','karthik','ramesh','suresh','world']\n",
    "lst.reverse()\n",
    "print(lst)"
   ]
  },
  {
   "cell_type": "code",
   "execution_count": 18,
   "id": "fe52593e",
   "metadata": {},
   "outputs": [
    {
     "name": "stdout",
     "output_type": "stream",
     "text": [
      "['world', 'suresh', 'ramesh', 'karthik', 'hi']\n"
     ]
    }
   ],
   "source": [
    "#14. Reverse a list using slicing  \n",
    "lst=['hi','karthik','ramesh','suresh','world']\n",
    "lst=lst[::-1]\n",
    "print(lst)\n"
   ]
  },
  {
   "cell_type": "code",
   "execution_count": 20,
   "id": "29a61cce",
   "metadata": {},
   "outputs": [
    {
     "name": "stdout",
     "output_type": "stream",
     "text": [
      "['hi', 'karthik', 'ramesh', 'suresh', 'world']\n"
     ]
    }
   ],
   "source": [
    "# 15. Copy a list using slicing  \n",
    "lst=['hi','karthik','ramesh','suresh','world']\n",
    "lst1=lst[:]\n",
    "print(lst1)\n"
   ]
  },
  {
   "cell_type": "code",
   "execution_count": 21,
   "id": "3ff5c2fa",
   "metadata": {},
   "outputs": [
    {
     "name": "stdout",
     "output_type": "stream",
     "text": [
      "[4, 5, 8, 1, 2, 3, 7, 9]\n"
     ]
    }
   ],
   "source": [
    "# 16. Copy a list using the copy() method  \n",
    "lst2=[4,5,8,1,2,3,7,9,]\n",
    "lst3=lst2.copy()\n",
    "print(lst3)"
   ]
  },
  {
   "cell_type": "code",
   "execution_count": 22,
   "id": "7221a4d8",
   "metadata": {},
   "outputs": [
    {
     "name": "stdout",
     "output_type": "stream",
     "text": [
      "None\n"
     ]
    }
   ],
   "source": [
    "# 17. Clear all elements in a list  \n",
    "lst=['hi','karthik','ramesh','suresh','world']\n",
    "lst=lst.clear()\n",
    "print(lst)"
   ]
  },
  {
   "cell_type": "code",
   "execution_count": null,
   "id": "ced6b606",
   "metadata": {},
   "outputs": [],
   "source": [
    "## ✅ Easy Python List Questions (Numbered)\n",
    "\n",
    "\n",
    "18. Count occurrences of a number  \n",
    "19. Find the index of a number  \n",
    "20. Concatenate two lists  \n",
    "21. Repeat a list 3 times  \n",
    "22. Print every second element  \n",
    "23. Print elements from index 2 to 5  \n",
    "24. Check if all elements are positive  \n",
    "25. Convert list to a string with commas  \n",
    "26. Find the max element  \n",
    "27. Find the min element  \n",
    "28. Sum all numbers in a list  \n",
    "29. Square every number in a list  \n",
    "30. Filter even numbers from a list  \n",
    "31. Filter odd numbers from a list  \n",
    "32. Find duplicates in a list  \n",
    "33. Remove duplicates from a list  \n",
    "34. Get unique elements using set()  \n",
    "35. Check if a list is empty  \n",
    "36. Initialize a list of n zeros  \n",
    "37. Swap two elements in a list  \n",
    "38. Get last element of a list  \n",
    "39. Convert a string to a list of chars  \n",
    "40. Convert a list of chars to a string (optional bonus)\n",
    "\n",
    "Would you like me to turn these into a practice worksheet or code snippets for each one?"
   ]
  }
 ],
 "metadata": {
  "kernelspec": {
   "display_name": "Python 3",
   "language": "python",
   "name": "python3"
  },
  "language_info": {
   "codemirror_mode": {
    "name": "ipython",
    "version": 3
   },
   "file_extension": ".py",
   "mimetype": "text/x-python",
   "name": "python",
   "nbconvert_exporter": "python",
   "pygments_lexer": "ipython3",
   "version": "3.13.6"
  }
 },
 "nbformat": 4,
 "nbformat_minor": 5
}
