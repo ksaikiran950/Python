{
 "cells": [
  {
   "cell_type": "code",
   "execution_count": 1,
   "id": "751b2cf9",
   "metadata": {},
   "outputs": [
    {
     "name": "stdout",
     "output_type": "stream",
     "text": [
      "[12, 10, 23]\n"
     ]
    }
   ],
   "source": [
    "l1=[[3,4,5],[1,2,7],[4,9,10]]\n",
    "l2=[]\n",
    "for i in range(len(l1)):\n",
    "    summ=0\n",
    "    for j in range(len(l1[i])):\n",
    "        summ+=l1[i][j]\n",
    "    l2.append(summ)\n",
    "print(l2)\n",
    "\n",
    "\n"
   ]
  },
  {
   "cell_type": "code",
   "execution_count": 2,
   "id": "c45915c6",
   "metadata": {},
   "outputs": [
    {
     "name": "stdout",
     "output_type": "stream",
     "text": [
      "[60, 14, 360]\n"
     ]
    }
   ],
   "source": [
    "l1=[[3,4,5],[1,2,7],[4,9,10]]\n",
    "l2=[]\n",
    "for i in range(len(l1)):\n",
    "    mul=1\n",
    "    for j in range(len(l1[i])):\n",
    "        mul*=l1[i][j]\n",
    "    l2.append(mul)\n",
    "print(l2)\n",
    "\n",
    "\n"
   ]
  },
  {
   "cell_type": "code",
   "execution_count": 3,
   "id": "06d5b2de",
   "metadata": {},
   "outputs": [
    {
     "name": "stdout",
     "output_type": "stream",
     "text": [
      "[[5, 4, 3], [7, 2, 1], [10, 9, 4]]\n"
     ]
    }
   ],
   "source": [
    "l1=[[3,4,5],[1,2,7],[4,9,10]]\n",
    "l2=[]\n",
    "for i in range(len(l1)):\n",
    "    l3=[]\n",
    "    for j in l1[i][::-1]:\n",
    "        l3.append(j)\n",
    "    l2.append(l3)\n",
    "print(l2)\n",
    "\n",
    "\n"
   ]
  },
  {
   "cell_type": "code",
   "execution_count": 4,
   "id": "109b1479",
   "metadata": {},
   "outputs": [
    {
     "name": "stdout",
     "output_type": "stream",
     "text": [
      "[60, 14, 360]\n"
     ]
    }
   ],
   "source": [
    "l1=[[3,4,5],[1,2,7],[4,9,10]]\n",
    "l2=[]\n",
    "for i in range(len(l1)):\n",
    "    mul=1\n",
    "    for j in range(len(l1[i])):\n",
    "        mul*=l1[i][j]\n",
    "    l2.append(mul)\n",
    "print(l2)\n",
    "\n",
    "\n"
   ]
  },
  {
   "cell_type": "code",
   "execution_count": 5,
   "id": "e48747d0",
   "metadata": {},
   "outputs": [
    {
     "name": "stdout",
     "output_type": "stream",
     "text": [
      "[12, 10, 23]\n"
     ]
    }
   ],
   "source": [
    "l1=[[3,4,5],[1,2,7],[4,9,10]]\n",
    "l2=[]\n",
    "for i in range(len(l1)):\n",
    "    summ=0\n",
    "    for j in range(len(l1[i])):\n",
    "        summ+=l1[i][j]\n",
    "    l2.append(summ)\n",
    "print(l2)\n",
    "\n",
    "\n"
   ]
  },
  {
   "cell_type": "code",
   "execution_count": null,
   "id": "55fefb03",
   "metadata": {},
   "outputs": [],
   "source": [
    "\"\"\" n=int(input())\n",
    "    s=input()\n",
    "    a,b,c=map(int,input().split())\n",
    "    l=list(map(int,input().split()))\n",
    "\n",
    "\n",
    "\"\"\"\n",
    "l1=list(map(int,input().split()))\n",
    "print(l1)\n"
   ]
  },
  {
   "cell_type": "code",
   "execution_count": 6,
   "id": "ccc1da77",
   "metadata": {},
   "outputs": [
    {
     "name": "stdout",
     "output_type": "stream",
     "text": [
      "[4, 8, 9, 6]\n"
     ]
    }
   ],
   "source": [
    "l2=[]\n",
    "n=4\n",
    "for i in range(n):\n",
    "    l1=list(map(int,input().split()))\n",
    "    l2.append(l1)\n",
    "\n",
    "l3=[]\n",
    "for k in range(len(l2)):\n",
    "    summ=0\n",
    "    for l in range(len(l2[k])):\n",
    "        summ+=l2[k][l]\n",
    "    l3.append(summ)\n",
    "print(l3)"
   ]
  },
  {
   "cell_type": "code",
   "execution_count": null,
   "id": "54aa2ae4",
   "metadata": {},
   "outputs": [],
   "source": [
    "l1=[[1,2,3],[4,5,6],[7,8,9]]\n",
    "l2=[]\n",
    "n = len(l1)\n",
    "l2 = [[0]*n for _ in range(n)]\n",
    "\n",
    "for i in range(n):\n",
    "    for j in range(n):\n",
    "        l2[j][n-1-i] = l1[i][j]\n",
    "\n",
    "print(l2)"
   ]
  },
  {
   "cell_type": "code",
   "execution_count": null,
   "id": "23d709e9",
   "metadata": {},
   "outputs": [],
   "source": [
    "l1=[[1,2,3],[4,5,6],[7,8,9]]\n",
    "n=len(l1)\n",
    "l2=[[0]*n for _ in range(n)]\n",
    "for i in range(n):\n",
    "    for j in range(n):\n",
    "        l2[j][n-1-i] = l1[i][j]\n",
    "\n",
    "print(l2)"
   ]
  }
 ],
 "metadata": {
  "kernelspec": {
   "display_name": "Python 3",
   "language": "python",
   "name": "python3"
  },
  "language_info": {
   "codemirror_mode": {
    "name": "ipython",
    "version": 3
   },
   "file_extension": ".py",
   "mimetype": "text/x-python",
   "name": "python",
   "nbconvert_exporter": "python",
   "pygments_lexer": "ipython3",
   "version": "3.13.6"
  }
 },
 "nbformat": 4,
 "nbformat_minor": 5
}
