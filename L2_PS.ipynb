{
 "cells": [
  {
   "cell_type": "code",
   "execution_count": 12,
   "id": "6d3a6838",
   "metadata": {},
   "outputs": [
    {
     "name": "stdout",
     "output_type": "stream",
     "text": [
      "2 3 5 7 11 13 17 19 23 29 31 37 41 43 47 53 59 61 67 71 73 79 83 89 97 total primes: 25\n"
     ]
    }
   ],
   "source": [
    "def is_prime(n):\n",
    "    if n<=1:\n",
    "        return False\n",
    "    for i in range(2,n):\n",
    "        if n%i==0:\n",
    "            return False\n",
    "    return True\n",
    "\n",
    "\n",
    "count=0\n",
    "for i in range(1,100):\n",
    "    if is_prime(i):\n",
    "        print(i,end=\" \")\n",
    "        count+=1\n",
    "print(\"total primes:\",count)"
   ]
  },
  {
   "cell_type": "code",
   "execution_count": 23,
   "id": "a57558e2",
   "metadata": {},
   "outputs": [
    {
     "name": "stdout",
     "output_type": "stream",
     "text": [
      "1 2 3 4 5 6 7 8 9 153 370 371 407 total count 13\n"
     ]
    }
   ],
   "source": [
    "def Armstrong(n):\n",
    "    z=t=n\n",
    "    count=0\n",
    "    while t>0:\n",
    "        count+=1\n",
    "        t//=10\n",
    "    sum=0\n",
    "    while z>0:\n",
    "        sum=sum+(z%10)**count\n",
    "        z//=10\n",
    "    return sum==n\n",
    "\n",
    "\n",
    "count=0\n",
    "for i in range(1,500):\n",
    "    if Armstrong(i):\n",
    "        print(i,end=\" \")\n",
    "        count+=1\n",
    "print(f'total count {count}')"
   ]
  },
  {
   "cell_type": "code",
   "execution_count": 30,
   "id": "c8651f24",
   "metadata": {},
   "outputs": [
    {
     "name": "stdout",
     "output_type": "stream",
     "text": [
      "1 2 3 4 5 6 7 8 9 153 370 371 407 13\n"
     ]
    }
   ],
   "source": [
    "def armstrong(n):\n",
    "    num=n\n",
    "    m=len(str(n))\n",
    "    tot=0\n",
    "    while n>0:\n",
    "        d=n%10\n",
    "        tot=tot+d**m\n",
    "        n//=10\n",
    "    return tot==num\n",
    "count=0\n",
    "for i in range(1,500):\n",
    "    if armstrong(i):\n",
    "        print(i,end=\" \")\n",
    "        count+=1\n",
    "print(count)\n",
    "\n"
   ]
  },
  {
   "cell_type": "code",
   "execution_count": 27,
   "id": "2efd55a4",
   "metadata": {},
   "outputs": [
    {
     "name": "stdout",
     "output_type": "stream",
     "text": [
      "2 4 6 8 10 12 14 16 18 20 22 24 26 28 30 32 34 36 38 40 42 44 46 48 50 52 54 56 58 60 62 64 66 68 70 72 74 76 78 80 82 84 86 88 90 92 94 96 98 100 "
     ]
    }
   ],
   "source": [
    "for i in range(1,101):\n",
    "    if i%2 !=0:\n",
    "        continue\n",
    "    else:\n",
    "        print(i,end=\" \")"
   ]
  },
  {
   "cell_type": "code",
   "execution_count": 28,
   "id": "d2536ea7",
   "metadata": {},
   "outputs": [
    {
     "name": "stdout",
     "output_type": "stream",
     "text": [
      "1 3 5 7 9 11 13 15 17 19 21 23 25 27 29 31 33 35 37 39 41 43 45 47 49 51 53 55 57 59 61 63 65 67 69 71 73 75 77 79 81 83 85 87 89 91 93 95 97 99 "
     ]
    }
   ],
   "source": [
    "for i in range(1,101):\n",
    "    if i%2 ==0:\n",
    "        continue\n",
    "    else:\n",
    "        print(i,end=\" \")"
   ]
  },
  {
   "cell_type": "code",
   "execution_count": 11,
   "id": "785fefa5",
   "metadata": {},
   "outputs": [
    {
     "name": "stdout",
     "output_type": "stream",
     "text": [
      "helloworld\n",
      "<class 'str'>\n"
     ]
    }
   ],
   "source": [
    "s=\" hell o wo rld\"\n",
    "s2=s.split()\n",
    "s1=\"\"\n",
    "for e in s2:\n",
    "    s1+=\"\".join(e)\n",
    "\n",
    "\n",
    "print(s1)\n",
    "print(type(s1))\n",
    "\n"
   ]
  },
  {
   "cell_type": "code",
   "execution_count": 13,
   "id": "a2f67aad",
   "metadata": {},
   "outputs": [
    {
     "name": "stdout",
     "output_type": "stream",
     "text": [
      "olleh\n"
     ]
    }
   ],
   "source": [
    "s=\"hello\"\n",
    "print(s[::-1])"
   ]
  },
  {
   "cell_type": "code",
   "execution_count": 16,
   "id": "93e11b1c",
   "metadata": {},
   "outputs": [
    {
     "name": "stdout",
     "output_type": "stream",
     "text": [
      "hello\n"
     ]
    }
   ],
   "source": [
    "s1=\"he llo\"\n",
    "s1=\"\".join(s1.split())\n",
    "print(s1)"
   ]
  },
  {
   "cell_type": "code",
   "execution_count": null,
   "id": "8b44cec3",
   "metadata": {},
   "outputs": [
    {
     "name": "stdout",
     "output_type": "stream",
     "text": [
      "['my', 'variable', 'name']\n",
      "myVariableName\n"
     ]
    }
   ],
   "source": [
    "\"\"\"\n",
    "Convert snake to Camel    my_variable_name --->  myVariablename\n",
    "        snake to pascal   my_variable_name ----->  MyVariableName\n",
    "        camel to snake    myVariablename --->   my_variable_name\n",
    "\"\"\"\n",
    "s=\"my_variable_name\"\n",
    "v=\"_\"\n",
    "parts=s.split(\"_\")\n",
    "print(parts)\n",
    "camel=parts[0]+\"\".join(word.capitalize() for word in parts[1:])\n",
    "print(camel)\n"
   ]
  },
  {
   "cell_type": "code",
   "execution_count": 24,
   "id": "8aeecd9a",
   "metadata": {},
   "outputs": [
    {
     "name": "stdout",
     "output_type": "stream",
     "text": [
      "['my', 'variable', 'name']\n",
      "MyVariableName\n"
     ]
    }
   ],
   "source": [
    "# snake to pascal   my_variable_name ----->  MyVariableName\n",
    "\n",
    "s=\"my_variable_name\"\n",
    "s=s.split(\"_\")\n",
    "print(s)\n",
    "s1=\"\"\n",
    "for e in s:\n",
    "    s1+=\"\".join(e.capitalize())\n",
    "print(s1)\n"
   ]
  },
  {
   "cell_type": "code",
   "execution_count": null,
   "id": "44cf9608",
   "metadata": {},
   "outputs": [
    {
     "ename": "AttributeError",
     "evalue": "'list' object has no attribute 'isupper'",
     "output_type": "error",
     "traceback": [
      "\u001b[31m---------------------------------------------------------------------------\u001b[39m",
      "\u001b[31mAttributeError\u001b[39m                            Traceback (most recent call last)",
      "\u001b[36mCell\u001b[39m\u001b[36m \u001b[39m\u001b[32mIn[25]\u001b[39m\u001b[32m, line 3\u001b[39m\n\u001b[32m      1\u001b[39m \u001b[38;5;66;03m# to snake    myVariablename --->   my_variable_name\u001b[39;00m\n\u001b[32m      2\u001b[39m s1=\u001b[33m\"\u001b[39m\u001b[33mmyVariableName\u001b[39m\u001b[33m\"\u001b[39m\n\u001b[32m----> \u001b[39m\u001b[32m3\u001b[39m s1=s1.split(\u001b[43ms\u001b[49m\u001b[43m.\u001b[49m\u001b[43misupper\u001b[49m())\n",
      "\u001b[31mAttributeError\u001b[39m: 'list' object has no attribute 'isupper'"
     ]
    }
   ],
   "source": [
    "# to snake    myVariablename --->   my_variable_name\n",
    "s1=\"myVariableName\"\n",
    "\n",
    "s1=[]"
   ]
  },
  {
   "cell_type": "code",
   "execution_count": 26,
   "id": "a199c2d3",
   "metadata": {},
   "outputs": [
    {
     "name": "stdout",
     "output_type": "stream",
     "text": [
      "Hello\n"
     ]
    }
   ],
   "source": [
    "s=\"hELLO\"\n",
    "s=s.swapcase()\n",
    "print(s)"
   ]
  }
 ],
 "metadata": {
  "kernelspec": {
   "display_name": "Python 3",
   "language": "python",
   "name": "python3"
  },
  "language_info": {
   "codemirror_mode": {
    "name": "ipython",
    "version": 3
   },
   "file_extension": ".py",
   "mimetype": "text/x-python",
   "name": "python",
   "nbconvert_exporter": "python",
   "pygments_lexer": "ipython3",
   "version": "3.13.6"
  }
 },
 "nbformat": 4,
 "nbformat_minor": 5
}
