{
 "cells": [
  {
   "cell_type": "code",
   "execution_count": 14,
   "id": "228eeb71",
   "metadata": {},
   "outputs": [
    {
     "data": {
      "text/plain": [
       "10"
      ]
     },
     "execution_count": 14,
     "metadata": {},
     "output_type": "execute_result"
    }
   ],
   "source": [
    "n=1234\n",
    "def tot(n):\n",
    "    tot=0\n",
    "    while n>0:\n",
    "        d=n%10\n",
    "        tot+=d\n",
    "        n//=10\n",
    "    return tot\n",
    "tot(n)\n"
   ]
  },
  {
   "cell_type": "code",
   "execution_count": 15,
   "id": "8795fde0",
   "metadata": {},
   "outputs": [
    {
     "data": {
      "text/plain": [
       "321"
      ]
     },
     "execution_count": 15,
     "metadata": {},
     "output_type": "execute_result"
    }
   ],
   "source": [
    "n=123\n",
    "def rev(n):\n",
    "    rev=0\n",
    "    while n>0:\n",
    "        d=n%10\n",
    "        rev=rev*10+d\n",
    "        n//=10\n",
    "    return rev\n",
    "rev(n)"
   ]
  },
  {
   "cell_type": "code",
   "execution_count": 16,
   "id": "1ac08be6",
   "metadata": {},
   "outputs": [
    {
     "data": {
      "text/plain": [
       "120"
      ]
     },
     "execution_count": 16,
     "metadata": {},
     "output_type": "execute_result"
    }
   ],
   "source": [
    "n=5\n",
    "def fact(n):\n",
    "    if n<=1:\n",
    "        return 1\n",
    "    return n*fact(n-1)\n",
    "fact(n)"
   ]
  },
  {
   "cell_type": "code",
   "execution_count": 17,
   "id": "a6b31e5d",
   "metadata": {},
   "outputs": [
    {
     "name": "stdout",
     "output_type": "stream",
     "text": [
      "n\n"
     ]
    }
   ],
   "source": [
    "s=\"wonde\"\n",
    "n=len(s)\n",
    "for i in range(n):\n",
    "    if n%2==0:\n",
    "        print(s[n//2-1]+s[n//2])\n",
    "        break\n",
    "    else:\n",
    "        print(s[n//2])\n",
    "        break\n",
    "\n"
   ]
  },
  {
   "cell_type": "code",
   "execution_count": 20,
   "id": "ecb5b6ba",
   "metadata": {},
   "outputs": [
    {
     "data": {
      "text/plain": [
       "'n'"
      ]
     },
     "execution_count": 20,
     "metadata": {},
     "output_type": "execute_result"
    }
   ],
   "source": [
    "s=\"wonde\"\n",
    "def str1(s):\n",
    "    n=len(s)\n",
    "    \n",
    "    if n%2==0:\n",
    "        return(s[n//2-1]+s[n//2])\n",
    "    else:\n",
    "        return(s[n//2])\n",
    "str1(s)\n"
   ]
  },
  {
   "cell_type": "code",
   "execution_count": 30,
   "id": "bb48d19c",
   "metadata": {},
   "outputs": [
    {
     "name": "stdout",
     "output_type": "stream",
     "text": [
      "12\n",
      "6\n",
      "not equal\n"
     ]
    }
   ],
   "source": [
    "n=765\n",
    "s=str(n)\n",
    "mtot=0\n",
    "fltot=int(s[0])+int(s[-1])\n",
    "print(fltot)\n",
    "for i in range(1,len(s)-1):\n",
    "    mtot+=int(s[i])\n",
    "print(mtot)\n",
    "if fltot == mtot:\n",
    "    print(\"equal\")\n",
    "else:\n",
    "    print(\"not equal\")\n",
    "\n",
    "\n"
   ]
  },
  {
   "cell_type": "code",
   "execution_count": 35,
   "id": "419fe525",
   "metadata": {},
   "outputs": [
    {
     "data": {
      "text/plain": [
       "'not equal'"
      ]
     },
     "execution_count": 35,
     "metadata": {},
     "output_type": "execute_result"
    }
   ],
   "source": [
    "def check_num_equal(n):\n",
    "    s = str(n)\n",
    "    fltot = int(s[0]) + int(s[-1])         # first + last\n",
    "    mtot = sum(int(d) for d in s[1:-1])    # sum of middle digits\n",
    "\n",
    "    return \"equal\" if fltot == mtot else \"not equal\"\n",
    "\n",
    "\n",
    "# Test\n",
    "# check_num_equal(765)    # not equal\n",
    "# check_num_equal(75547)   # equal\n",
    "check_num_equal(141)     # equal\n"
   ]
  },
  {
   "cell_type": "code",
   "execution_count": 36,
   "id": "e4e800e1",
   "metadata": {},
   "outputs": [
    {
     "name": "stdout",
     "output_type": "stream",
     "text": [
      "3\n"
     ]
    }
   ],
   "source": [
    "n=153\n",
    "num=len(str(n))\n",
    "print(num)"
   ]
  }
 ],
 "metadata": {
  "kernelspec": {
   "display_name": "Python 3",
   "language": "python",
   "name": "python3"
  },
  "language_info": {
   "codemirror_mode": {
    "name": "ipython",
    "version": 3
   },
   "file_extension": ".py",
   "mimetype": "text/x-python",
   "name": "python",
   "nbconvert_exporter": "python",
   "pygments_lexer": "ipython3",
   "version": "3.13.6"
  }
 },
 "nbformat": 4,
 "nbformat_minor": 5
}
