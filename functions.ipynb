{
 "cells": [
  {
   "cell_type": "code",
   "execution_count": 1,
   "id": "17d49252",
   "metadata": {},
   "outputs": [
    {
     "name": "stdout",
     "output_type": "stream",
     "text": [
      "Hello All\n"
     ]
    }
   ],
   "source": [
    "def greet():\n",
    "    print(\"Hello All\")\n",
    "greet()"
   ]
  },
  {
   "cell_type": "code",
   "execution_count": 2,
   "id": "3508e366",
   "metadata": {},
   "outputs": [
    {
     "name": "stdout",
     "output_type": "stream",
     "text": [
      "11\n"
     ]
    }
   ],
   "source": [
    "#practise all types of function syntaxes and simple examples in a document\n",
    "def add(a,b):\n",
    "    return a+b\n",
    "print(add(6,5))"
   ]
  },
  {
   "cell_type": "code",
   "execution_count": 3,
   "id": "7524d365",
   "metadata": {},
   "outputs": [
    {
     "name": "stdout",
     "output_type": "stream",
     "text": [
      "Hello harish sir\n",
      "Hello sai sir\n"
     ]
    }
   ],
   "source": [
    "# with parameters\n",
    "def wish(name):\n",
    "    print(f'Hello {name} sir')\n",
    "wish(\"harish\")\n",
    "wish(\"sai\")"
   ]
  },
  {
   "cell_type": "code",
   "execution_count": 4,
   "id": "27206134",
   "metadata": {},
   "outputs": [
    {
     "name": "stdout",
     "output_type": "stream",
     "text": [
      "Hello, Sakshi\n",
      "Hello, kiran\n"
     ]
    }
   ],
   "source": [
    "# defaut parameter\n",
    "def greet(name = \"kiran\"):\n",
    "    print(\"Hello, \" + name)\n",
    "\n",
    "greet(\"Sakshi\") \n",
    "greet()      \n"
   ]
  },
  {
   "cell_type": "code",
   "execution_count": 5,
   "id": "b2ab7586",
   "metadata": {},
   "outputs": [
    {
     "name": "stdout",
     "output_type": "stream",
     "text": [
      "5\n"
     ]
    }
   ],
   "source": [
    "def sub(a,b):\n",
    "    print(a-b)\n",
    "sub(9,4)"
   ]
  },
  {
   "cell_type": "code",
   "execution_count": 6,
   "id": "74d44858",
   "metadata": {},
   "outputs": [
    {
     "name": "stdout",
     "output_type": "stream",
     "text": [
      "30\n"
     ]
    }
   ],
   "source": [
    "def mul(a,b):\n",
    "    return a*b\n",
    "print(mul(5,6))"
   ]
  },
  {
   "cell_type": "code",
   "execution_count": 7,
   "id": "98a4e649",
   "metadata": {},
   "outputs": [
    {
     "name": "stdout",
     "output_type": "stream",
     "text": [
      "0.8333333333333334\n"
     ]
    }
   ],
   "source": [
    "def mul(a,b):\n",
    "    return a/b\n",
    "print(mul(5,6))"
   ]
  },
  {
   "cell_type": "code",
   "execution_count": 8,
   "id": "ce099f3b",
   "metadata": {},
   "outputs": [
    {
     "data": {
      "text/plain": [
       "19"
      ]
     },
     "execution_count": 8,
     "metadata": {},
     "output_type": "execute_result"
    }
   ],
   "source": [
    "def add(*args):\n",
    "    return sum(args)\n",
    "add(5,8,6)"
   ]
  },
  {
   "cell_type": "code",
   "execution_count": 9,
   "id": "38732829",
   "metadata": {},
   "outputs": [
    {
     "name": "stdout",
     "output_type": "stream",
     "text": [
      "sai\n",
      "21\n",
      "Country: India\n"
     ]
    }
   ],
   "source": [
    "def details(**kwargs):\n",
    "    print(kwargs['name'])\n",
    "    print(kwargs['age'])\n",
    "    print(\"Country: India\")\n",
    "\n",
    "details(name=\"sai\", age=\"21\")\n"
   ]
  },
  {
   "cell_type": "code",
   "execution_count": 10,
   "id": "145f8a42",
   "metadata": {},
   "outputs": [
    {
     "name": "stdout",
     "output_type": "stream",
     "text": [
      "16\n"
     ]
    }
   ],
   "source": [
    "squared_num=lambda x:x*x\n",
    "\n",
    "print(squared_num(4))"
   ]
  },
  {
   "cell_type": "code",
   "execution_count": 11,
   "id": "26cea63b",
   "metadata": {},
   "outputs": [
    {
     "name": "stdout",
     "output_type": "stream",
     "text": [
      "11\n"
     ]
    }
   ],
   "source": [
    "add_lambda=lambda x,y : x+y\n",
    "print(add_lambda(4,7))"
   ]
  }
 ],
 "metadata": {
  "kernelspec": {
   "display_name": "Python 3",
   "language": "python",
   "name": "python3"
  },
  "language_info": {
   "codemirror_mode": {
    "name": "ipython",
    "version": 3
   },
   "file_extension": ".py",
   "mimetype": "text/x-python",
   "name": "python",
   "nbconvert_exporter": "python",
   "pygments_lexer": "ipython3",
   "version": "3.13.6"
  }
 },
 "nbformat": 4,
 "nbformat_minor": 5
}
