{
 "cells": [
  {
   "cell_type": "markdown",
   "id": "60607c86",
   "metadata": {},
   "source": [
    "Dictionary built in functions\n"
   ]
  },
  {
   "cell_type": "code",
   "execution_count": 15,
   "id": "b085c5ee",
   "metadata": {},
   "outputs": [
    {
     "name": "stdout",
     "output_type": "stream",
     "text": [
      "dict_keys(['name', 'age', 'place'])\n",
      "dict_values(['Sai', 21, 'hyd'])\n",
      "dict_items([('name', 'Sai'), ('age', 21), ('place', 'hyd')])\n",
      "0 name Sai\n",
      "1 age 21\n",
      "2 place hyd\n",
      "{'name': 'Sai', 'age': 21, 'place': 'hyd', 'clg': 'NMREC'}\n"
     ]
    }
   ],
   "source": [
    "dict={\"name\":\"Sai\",\"age\":21,\"place\":\"hyd\"}\n",
    "# to get keys\n",
    "print(dict.keys())\n",
    "# to get values\n",
    "print(dict.values())\n",
    "# to get both key and values\n",
    "print(dict.items())\n",
    "\n",
    "# get index ,value we use enumerate\n",
    "for index,(i,j) in enumerate(dict.items()):\n",
    "    print(index,i,j)\n",
    "\n",
    "# update\n",
    "dict.update({\"clg\":\"NMREC\"})\n",
    "print(dict)"
   ]
  },
  {
   "cell_type": "code",
   "execution_count": 17,
   "id": "98d1cc35",
   "metadata": {},
   "outputs": [
    {
     "name": "stdout",
     "output_type": "stream",
     "text": [
      "{'name': 'Sai', 'age': 21, 'place': 'hyd', 'clg': 'NMREC'}\n"
     ]
    }
   ],
   "source": [
    "d=dict.copy()\n",
    "print(d)"
   ]
  },
  {
   "cell_type": "code",
   "execution_count": 14,
   "id": "7a47cbb1",
   "metadata": {},
   "outputs": [
    {
     "name": "stdout",
     "output_type": "stream",
     "text": [
      "{}\n"
     ]
    }
   ],
   "source": [
    "dict.clear()\n",
    "print(dict)"
   ]
  },
  {
   "cell_type": "code",
   "execution_count": 20,
   "id": "b9871f6a",
   "metadata": {},
   "outputs": [
    {
     "name": "stdout",
     "output_type": "stream",
     "text": [
      "{'name': 0, 'age': 0, 'place': 0}\n"
     ]
    }
   ],
   "source": [
    "l=[\"name\",\"age\",\"place\"]\n",
    "d= dict.fromkeys(l,0)\n",
    "print(d)\n",
    "# print(d.fromkeys(l,0))"
   ]
  }
 ],
 "metadata": {
  "kernelspec": {
   "display_name": "Python 3",
   "language": "python",
   "name": "python3"
  },
  "language_info": {
   "codemirror_mode": {
    "name": "ipython",
    "version": 3
   },
   "file_extension": ".py",
   "mimetype": "text/x-python",
   "name": "python",
   "nbconvert_exporter": "python",
   "pygments_lexer": "ipython3",
   "version": "3.13.6"
  }
 },
 "nbformat": 4,
 "nbformat_minor": 5
}
