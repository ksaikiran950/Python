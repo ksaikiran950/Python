{
 "cells": [
  {
   "cell_type": "code",
   "execution_count": null,
   "id": "4defb16b",
   "metadata": {},
   "outputs": [
    {
     "name": "stdout",
     "output_type": "stream",
     "text": [
      "6\n"
     ]
    }
   ],
   "source": [
    "n= 123\n",
    "# sum of digits\n",
    "def sumofdigits(n):\n",
    "    \n",
    "    total = 0\n",
    "    while n > 0:\n",
    "        d = n % 10\n",
    "        total += d\n",
    "        n //= 10\n",
    "    print(total)\n",
    "sumofdigits(n)"
   ]
  },
  {
   "cell_type": "code",
   "execution_count": null,
   "id": "8b8c8786",
   "metadata": {},
   "outputs": [
    {
     "name": "stdout",
     "output_type": "stream",
     "text": [
      "121\n"
     ]
    }
   ],
   "source": [
    "# reverse of the given number.\n",
    "\n",
    "n=121\n",
    "def reverse(n):\n",
    "    rev=0\n",
    "    while n>0:\n",
    "        \n",
    "        d=n%10\n",
    "        rev=rev*10+d\n",
    "        n//=10\n",
    "    print(rev)\n",
    "reverse(n)\n"
   ]
  },
  {
   "cell_type": "code",
   "execution_count": 11,
   "id": "e77ff3b6",
   "metadata": {},
   "outputs": [
    {
     "name": "stdout",
     "output_type": "stream",
     "text": [
      "9\n"
     ]
    }
   ],
   "source": [
    "# program to print middle character(s) in the given string or number. \n",
    "word=96966\n",
    "word=str(word)\n",
    "def midchr(word):\n",
    "    l=len(word)\n",
    "    if l%2 ==0:\n",
    "        print(word[l//2-1]+word[l//2])\n",
    "    else: \n",
    "        print(word[l//2])\n",
    "midchr(word)\n",
    "\n"
   ]
  },
  {
   "cell_type": "code",
   "execution_count": 3,
   "id": "6b1dcc64",
   "metadata": {},
   "outputs": [
    {
     "name": "stdout",
     "output_type": "stream",
     "text": [
      "12\n",
      "6\n",
      "Not Equal\n"
     ]
    }
   ],
   "source": [
    "n=int(input())\n",
    "n=str(n)\n",
    "print(int(n[0])+int(n[-1]))\n",
    "tot=0\n",
    "for i in range(1,len(n)-1):\n",
    "    tot=tot+int(n[i])\n",
    "print(tot)\n",
    "if int(n[0])+int(n[-1]) == tot:\n",
    "    print(\"Equal\")\n",
    "else:\n",
    "    print(\"Not Equal\")"
   ]
  },
  {
   "cell_type": "code",
   "execution_count": 2,
   "id": "45ee30ce",
   "metadata": {},
   "outputs": [
    {
     "name": "stdout",
     "output_type": "stream",
     "text": [
      "False\n"
     ]
    }
   ],
   "source": [
    "n=int(input())\n",
    "ns=str(n)\n",
    "flag = True\n",
    "for i in range(1,len(ns)-1):\n",
    "\n",
    "    if  not (ns[i] < ns[0] and ns[i]<ns[-1]):\n",
    "        flag = False\n",
    "        break\n",
    "print(flag)\n"
   ]
  },
  {
   "cell_type": "code",
   "execution_count": 1,
   "id": "ebda26ad",
   "metadata": {},
   "outputs": [
    {
     "name": "stdout",
     "output_type": "stream",
     "text": [
      "aiia"
     ]
    }
   ],
   "source": [
    "# print the vowels in the given string in reverse order\n",
    "string = input(\"enter:\")\n",
    "v=\"aeiouAEIOU\"\n",
    "l=len(string)\n",
    "for i in range(l-1,-1,-1):\n",
    "    if string[i] in v:\n",
    "        print(string[i],end=\"\")\n",
    "\n"
   ]
  },
  {
   "cell_type": "code",
   "execution_count": 7,
   "id": "b82f38f7",
   "metadata": {},
   "outputs": [
    {
     "name": "stdout",
     "output_type": "stream",
     "text": [
      "eo\n"
     ]
    }
   ],
   "source": [
    "# print the vowels in the given string and repeated  vowel should be printed only single time.\n",
    "\n",
    "string=\"HelloWorld\"\n",
    "v=\"aeiouAEIOU\"\n",
    "str1=''\n",
    "for ch in string:\n",
    "    if ch in v and ch not in str1:\n",
    "        str1=str1+ch\n",
    "print(str1)\n"
   ]
  },
  {
   "cell_type": "code",
   "execution_count": 10,
   "id": "f62eff82",
   "metadata": {},
   "outputs": [
    {
     "name": "stdout",
     "output_type": "stream",
     "text": [
      "mad\n"
     ]
    }
   ],
   "source": [
    "# program to print the string after removing the duplicate characters  in the string. \n",
    "s =input()\n",
    "str2=\"\"\n",
    "for ch in s:\n",
    "    if ch not in str2:\n",
    "        str2+=ch\n",
    "print(str2)\n",
    "        \n",
    "\n",
    "    "
   ]
  },
  {
   "cell_type": "code",
   "execution_count": 11,
   "id": "3ae7536a",
   "metadata": {},
   "outputs": [
    {
     "name": "stdout",
     "output_type": "stream",
     "text": [
      "d\n"
     ]
    }
   ],
   "source": [
    "# Brute force: Remove characters that appear more than once\n",
    "\n",
    "s = input(\"Enter a string: \")\n",
    "result = \"\"\n",
    "\n",
    "for i in range(len(s)):\n",
    "    count = 0\n",
    "    # Count occurrences of s[i]\n",
    "    for j in range(len(s)):\n",
    "        if s[i] == s[j]:\n",
    "            count += 1\n",
    "    # Keep only if it appears once\n",
    "    if count == 1:\n",
    "        result += s[i]\n",
    "\n",
    "print(result)\n"
   ]
  },
  {
   "cell_type": "code",
   "execution_count": 2,
   "id": "477f5b69",
   "metadata": {},
   "outputs": [
    {
     "name": "stdout",
     "output_type": "stream",
     "text": [
      "k\n"
     ]
    }
   ],
   "source": [
    "# program to convert all the upper case letters in the given string to  lower case letter and vice versa.\n",
    "str1=\"JohnWick\"\n",
    "for ch in str1:\n",
    "    if ch.upper() in str1:\n",
    "        ch=ch.lower()\n",
    "print(ch)"
   ]
  },
  {
   "cell_type": "code",
   "execution_count": 4,
   "id": "d9c7c6f5",
   "metadata": {},
   "outputs": [
    {
     "name": "stdout",
     "output_type": "stream",
     "text": [
      "65\n",
      "97\n"
     ]
    }
   ],
   "source": [
    "s=\"Aa\"\n",
    "for ch in s:\n",
    "    print(ord(ch))"
   ]
  },
  {
   "cell_type": "code",
   "execution_count": 6,
   "id": "d0956a13",
   "metadata": {},
   "outputs": [
    {
     "name": "stdout",
     "output_type": "stream",
     "text": [
      "A\n"
     ]
    }
   ],
   "source": [
    "s=\"a\"\n",
    "for ch in s:\n",
    "    print(chr(ord(ch)-32))"
   ]
  },
  {
   "cell_type": "code",
   "execution_count": 8,
   "id": "3e5c9068",
   "metadata": {},
   "outputs": [
    {
     "name": "stdout",
     "output_type": "stream",
     "text": [
      "a\n"
     ]
    }
   ],
   "source": [
    "s=\"A\"\n",
    "for ch in s:\n",
    "    print(chr(ord(ch)+32))"
   ]
  },
  {
   "cell_type": "code",
   "execution_count": 11,
   "id": "fa3dcfe9",
   "metadata": {},
   "outputs": [
    {
     "name": "stdout",
     "output_type": "stream",
     "text": [
      "jOHNwICK\n"
     ]
    }
   ],
   "source": [
    "s=\"JohnWick\"\n",
    "result=''\n",
    "for ch in s:\n",
    "    if 'a' <= ch <='z':\n",
    "        result += chr(ord(ch) - 32)\n",
    "    elif 'A' <= ch <= 'Z':\n",
    "        result += chr(ord(ch)+32)\n",
    "    else:\n",
    "        result += ch\n",
    "print(result)"
   ]
  },
  {
   "cell_type": "code",
   "execution_count": 10,
   "id": "88b59907",
   "metadata": {},
   "outputs": [
    {
     "name": "stdout",
     "output_type": "stream",
     "text": [
      "sAiKIrAN\n"
     ]
    }
   ],
   "source": [
    "# Program to swap upper and lower case letters in a string\n",
    "\n",
    "s = input(\"Enter a string: \")\n",
    "result = \"\"\n",
    "\n",
    "for ch in s:\n",
    "    if 'a' <= ch <= 'z':        # lowercase → uppercase\n",
    "        result += chr(ord(ch) - 32)\n",
    "    elif 'A' <= ch <= 'Z':      # uppercase → lowercase\n",
    "        result += chr(ord(ch) + 32)\n",
    "    else:\n",
    "        result += ch            # keep other characters unchanged\n",
    "\n",
    "print(result)\n"
   ]
  },
  {
   "cell_type": "code",
   "execution_count": 12,
   "id": "673c4e54",
   "metadata": {},
   "outputs": [
    {
     "name": "stdout",
     "output_type": "stream",
     "text": [
      "Final string: ONumberne\n"
     ]
    }
   ],
   "source": [
    "# Brute force uppercase reverse + lowercase follow\n",
    "string = \"NumberOne\"\n",
    "\n",
    "upper_str = \"\"\n",
    "lower_str = \"\"\n",
    "\n",
    "for ch in string:\n",
    "    if 'A' <= ch <= 'Z':\n",
    "        upper_str += ch\n",
    "    elif 'a' <= ch <= 'z':\n",
    "        lower_str += ch\n",
    "\n",
    "# Reverse uppercase manually (brute force)\n",
    "reversed_upper = \"\"\n",
    "for i in range(len(upper_str)-1, -1, -1):\n",
    "    reversed_upper += upper_str[i]\n",
    "\n",
    "final_result = reversed_upper + lower_str\n",
    "print(\"Final string:\", final_result)\n"
   ]
  },
  {
   "cell_type": "code",
   "execution_count": 17,
   "id": "48360407",
   "metadata": {},
   "outputs": [
    {
     "name": "stdout",
     "output_type": "stream",
     "text": [
      "[2, 3, 5, 6, 9]\n",
      "9\n"
     ]
    }
   ],
   "source": [
    "n=int(input(\"enter:\"))\n",
    "arr1=[]\n",
    "for i in range(n):\n",
    "    element=int(input())\n",
    "    arr1.append(element)\n",
    "print(arr1)\n",
    "l=0\n",
    "for e in arr1:\n",
    "    if e>l:\n",
    "        l=e\n",
    "print(l)    \n",
    "\n"
   ]
  },
  {
   "cell_type": "code",
   "execution_count": 21,
   "id": "41329372",
   "metadata": {},
   "outputs": [
    {
     "name": "stdout",
     "output_type": "stream",
     "text": [
      "7\n"
     ]
    }
   ],
   "source": [
    "arr1=[2,3,9,5,7]\n",
    "l=0\n",
    "sl=0\n",
    "for e in arr1:\n",
    "    if e>l:\n",
    "        sl=l\n",
    "        l=e\n",
    "    elif e>sl and e !=l:\n",
    "        sl=e \n",
    "\n",
    "print(sl)    \n",
    "\n"
   ]
  },
  {
   "cell_type": "code",
   "execution_count": null,
   "id": "bc80ff76",
   "metadata": {},
   "outputs": [
    {
     "name": "stdout",
     "output_type": "stream",
     "text": [
      "Sravan-24-Eligible for voting\n",
      "harish-17- Not Eligible\n",
      "aravind-20-Eligible for voting\n",
      "akhil-18-Eligible for voting\n"
     ]
    }
   ],
   "source": [
    "# problem solving\n",
    "l1=['Sravan','harish','aravind','akhil']\n",
    "l2=[24,17,20,18]\n",
    "l=len(l2)\n",
    "for i in range(l):\n",
    "    if l2[i] >=18:\n",
    "        print(f'{l1[i]}-{l2[i]}-Eligible for voting')\n",
    "    else:\n",
    "        print(f'{l1[i]}-{l2[i]}- Not Eligible')"
   ]
  },
  {
   "cell_type": "code",
   "execution_count": 2,
   "id": "8c95f7ea",
   "metadata": {},
   "outputs": [
    {
     "name": "stdout",
     "output_type": "stream",
     "text": [
      "6\n"
     ]
    }
   ],
   "source": [
    "n=int(input(\"enter a number:\"))\n",
    "sum=0\n",
    "while n>0:\n",
    "    rem=n%10\n",
    "    sum=sum+rem\n",
    "    n//=10\n",
    "print(sum)\n"
   ]
  },
  {
   "cell_type": "code",
   "execution_count": 3,
   "id": "f181dd49",
   "metadata": {},
   "outputs": [
    {
     "name": "stdout",
     "output_type": "stream",
     "text": [
      "6\n"
     ]
    }
   ],
   "source": [
    "n=123\n",
    "s=str(n)\n",
    "sum=0\n",
    "for ch in s:\n",
    "    sum+=int(ch)\n",
    "print(sum)\n"
   ]
  },
  {
   "cell_type": "code",
   "execution_count": 1,
   "id": "b02797a4",
   "metadata": {},
   "outputs": [
    {
     "name": "stdout",
     "output_type": "stream",
     "text": [
      "9\n"
     ]
    }
   ],
   "source": [
    "n=539\n",
    "maxd=0\n",
    "while n>0:\n",
    "    rem=n%10\n",
    "    if rem>maxd:\n",
    "        maxd=rem\n",
    "    n//=10\n",
    "print(maxd)"
   ]
  },
  {
   "cell_type": "code",
   "execution_count": 8,
   "id": "1b9a0a30",
   "metadata": {},
   "outputs": [
    {
     "name": "stdout",
     "output_type": "stream",
     "text": [
      "6\n"
     ]
    }
   ],
   "source": [
    "n=123\n",
    "m=str(n)\n",
    "res=0\n",
    "for d in range(len(str(n))):\n",
    "    res+=int(m[d])\n",
    "print(res)"
   ]
  },
  {
   "cell_type": "code",
   "execution_count": 1,
   "id": "68f4e7e1",
   "metadata": {},
   "outputs": [
    {
     "name": "stdout",
     "output_type": "stream",
     "text": [
      "3\n"
     ]
    }
   ],
   "source": [
    "n=153\n",
    "count=0\n",
    "while n>0:\n",
    "    count+=1\n",
    "    n//=10\n",
    "print(count)\n",
    "    "
   ]
  },
  {
   "cell_type": "code",
   "execution_count": null,
   "id": "a5c7ac4e",
   "metadata": {},
   "outputs": [
    {
     "name": "stdout",
     "output_type": "stream",
     "text": [
      "153 is a armstrong number\n"
     ]
    }
   ],
   "source": [
    "n=153\n",
    "m=len(str(n))\n",
    "def armstrong(n):\n",
    "    s=0\n",
    "    t=n\n",
    "    while t>0:\n",
    "        r=t%10\n",
    "        s=s+r**m\n",
    "        t=t//10\n",
    "    return s\n",
    "num=armstrong(n)\n",
    "\n",
    "if n==num:\n",
    "    print(f'{n} is a armstrong number')\n",
    "else:\n",
    "    print(f'{n} is not a armstrong number')\n"
   ]
  },
  {
   "cell_type": "code",
   "execution_count": 18,
   "id": "689a7f96",
   "metadata": {},
   "outputs": [],
   "source": [
    "n=int(input(\"enter a number:\"))\n",
    "for i in range(n+1):\n",
    "    m=len(str(n))\n",
    "def armstrong(n):\n",
    "    s=0\n",
    "    t=n\n",
    "    while t>0:\n",
    "        r=t%10\n",
    "        s=s+r**m\n",
    "        t//=10\n",
    "    return s\n"
   ]
  },
  {
   "cell_type": "code",
   "execution_count": 7,
   "id": "bb76c7c9",
   "metadata": {},
   "outputs": [
    {
     "name": "stdout",
     "output_type": "stream",
     "text": [
      "7\n",
      "3\n",
      "1\n",
      "31\n"
     ]
    }
   ],
   "source": [
    "rup=21\n",
    "cost=1\n",
    "c=rup//cost\n",
    "w=c\n",
    "while w>=3:\n",
    "    e_c=w//3\n",
    "    # print(e_c)\n",
    "    c+=e_c\n",
    "    w=e_c+w%3\n",
    "    print(w)\n",
    "print(c)\n",
    "\n",
    "\n",
    "\n"
   ]
  },
  {
   "cell_type": "code",
   "execution_count": 16,
   "id": "3625f0b7",
   "metadata": {},
   "outputs": [
    {
     "name": "stdout",
     "output_type": "stream",
     "text": [
      "merged array = [1, 2, 3]\n",
      "median is 2\n"
     ]
    }
   ],
   "source": [
    "\"\"\"Given two sorted arrays nums1 and nums2 of size m and n respectively, return the median of the two sorted arrays.\n",
    "\n",
    "The overall run time complexity should be O(log (m+n)).\n",
    "\n",
    "Example 1:\n",
    "\n",
    "Input: nums1 = [1,3], nums2 = [2]\n",
    "Output: 2.00000\n",
    "Explanation: merged array = [1,2,3] and median is 2.\n",
    "Example 2:\n",
    "\n",
    "Input: nums1 = [1,2], nums2 = [3,4]\n",
    "Output: 2.50000\n",
    "Explanation: merged array = [1,2,3,4] and median is (2 + 3) / 2 = 2.5.\"\"\"\n",
    "nums1 = [1,3] \n",
    "nums2 = [2]\n",
    "#nums1 = [1,2] \n",
    "#nums2 = [3,4]\n",
    "nums1=sorted(nums1+nums2)\n",
    "print(f'merged array = {nums1}')\n",
    "m=len(nums1)\n",
    "if m%2==0:\n",
    "    median = (nums1[m//2]+nums1[(m//2)-1])/2\n",
    "    print(f'median is {median}')\n",
    "else:\n",
    "    median = (nums1[m//2])\n",
    "    print(f'median is {median}')"
   ]
  },
  {
   "cell_type": "code",
   "execution_count": 28,
   "id": "06fbee3e",
   "metadata": {},
   "outputs": [
    {
     "name": "stdout",
     "output_type": "stream",
     "text": [
      "1994\n"
     ]
    }
   ],
   "source": [
    "s=\"MCMXCIV\"\n",
    "roman={\"I\":1,\"V\":5,\"X\":10,\"L\":50,\"C\":100,\"D\":500,\"M\":1000}\n",
    "tot=0\n",
    "p=0\n",
    "for ch in s[::-1]:\n",
    "    c=roman[ch]\n",
    "    if c<p:\n",
    "        tot-=c\n",
    "    else:\n",
    "        tot+=c\n",
    "    p=c\n",
    "print(tot)"
   ]
  }
 ],
 "metadata": {
  "kernelspec": {
   "display_name": "Python 3",
   "language": "python",
   "name": "python3"
  },
  "language_info": {
   "codemirror_mode": {
    "name": "ipython",
    "version": 3
   },
   "file_extension": ".py",
   "mimetype": "text/x-python",
   "name": "python",
   "nbconvert_exporter": "python",
   "pygments_lexer": "ipython3",
   "version": "3.13.6"
  }
 },
 "nbformat": 4,
 "nbformat_minor": 5
}
