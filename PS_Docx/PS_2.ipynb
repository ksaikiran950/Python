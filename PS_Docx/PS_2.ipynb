{
 "cells": [
  {
   "cell_type": "code",
   "execution_count": 2,
   "id": "3e5218a0",
   "metadata": {},
   "outputs": [
    {
     "name": "stdout",
     "output_type": "stream",
     "text": [
      "False\n"
     ]
    }
   ],
   "source": [
    "\"\"\"1. Check Even or Odd\n",
    "Question: Determine whether a number is even or odd. Explanation: A number is even if it is divisible by 2. Otherwise, it’s odd. - Input: Number = 6 - Output: Even number\n",
    "\"\"\"\n",
    "n=3\n",
    "def e_or_odd(n):\n",
    "    if n%2==0:\n",
    "        return True\n",
    "    else:\n",
    "        return False\n",
    "print(e_or_odd(n))\n"
   ]
  },
  {
   "cell_type": "code",
   "execution_count": 5,
   "id": "78d8a285",
   "metadata": {},
   "outputs": [
    {
     "name": "stdout",
     "output_type": "stream",
     "text": [
      "Satisfy\n"
     ]
    }
   ],
   "source": [
    "\"\"\"2. Divisible by 5 but Not by 10\n",
    "Question: Check if a number is divisible by 5 but not by 10. Explanation: Use modulo (%) to check if the number % 5 == 0 and number % 10 != 0. - Input: Number = 25 - Output: Satisfy\n",
    "\"\"\"\n",
    "num=25\n",
    "def satisfy(n):\n",
    "    if n%5==0 and n%10 !=0:\n",
    "        return \"Satisfy\"\n",
    "    else:\n",
    "        return \"Not Satisfy\"\n",
    "print(satisfy(num))"
   ]
  },
  {
   "cell_type": "code",
   "execution_count": null,
   "id": "be07607c",
   "metadata": {},
   "outputs": [
    {
     "name": "stdout",
     "output_type": "stream",
     "text": [
      " both are Equal\n"
     ]
    }
   ],
   "source": [
    "\"\"\"3. Biggest Among Two Numbers\n",
    "Question: Find the biggest number among two. Explanation: Use comparison operators (>) to check which number is greater. - Input: A = 4, B = 7 - Output: Biggest is: 7\n",
    "\"\"\"\n",
    "a=4\n",
    "b=7\n",
    "def largest(a,b):\n",
    "    if a>b:\n",
    "        return a\n",
    "    elif a<b:\n",
    "        return b\n",
    "    else:\n",
    "        return \" both are Equal\"\n",
    "print(largest(a,b))"
   ]
  },
  {
   "cell_type": "code",
   "execution_count": 12,
   "id": "a31c4670",
   "metadata": {},
   "outputs": [
    {
     "name": "stdout",
     "output_type": "stream",
     "text": [
      "4\n"
     ]
    }
   ],
   "source": [
    "\"\"\"4. Smallest Among Two Numbers\n",
    "Question: Find the smallest number among two. Explanation: Use comparison operators (<) to find the smaller value. - Input: A = 4, B = 7 - Output: Smallest is: 4\n",
    "\"\"\"\n",
    "a=4\n",
    "b=7\n",
    "def smallest(a,b):\n",
    "    if a<b:\n",
    "        return a\n",
    "    elif b<a:\n",
    "        return b\n",
    "    else:\n",
    "        return \" both are Equal\"\n",
    "print(smallest(a,b))"
   ]
  },
  {
   "cell_type": "code",
   "execution_count": 19,
   "id": "34874f71",
   "metadata": {},
   "outputs": [
    {
     "name": "stdout",
     "output_type": "stream",
     "text": [
      "Satisfy\n"
     ]
    }
   ],
   "source": [
    "\"\"\"5. Divisible by 2, 3, and 6\n",
    "Question: Check if a number is divisible by 2, 3, and 6. Explanation: If a number is divisible by both 2 and 3, it is also divisible by 6. - Input: Number = 18 - Output: Satisfy\"\"\"\n",
    "n=18\n",
    "def divisibility(n):\n",
    "    if n%2==0 and n%3==0 and n%6==0:  # optional (n%6==0)  If a number is divisible by both 2 and 3, it is also divisible by 6\n",
    "        return \"Satisfy\"\n",
    "    else:\n",
    "        return \"Not Satisy\"\n",
    "\n",
    "print(divisibility(n))"
   ]
  },
  {
   "cell_type": "code",
   "execution_count": null,
   "id": "69b32044",
   "metadata": {},
   "outputs": [
    {
     "name": "stdout",
     "output_type": "stream",
     "text": [
      "Not Eligible for voting\n"
     ]
    }
   ],
   "source": [
    "\"\"\"6. Voting Eligibility\n",
    "Question: Check if a person is eligible to vote (age >= 18). Explanation: A person is eligible to vote if their age is 18 or above. - Input: Age = 19 - Output: Eligible to vote\n",
    "\"\"\"\n",
    "age=18\n",
    "def voting(n):\n",
    "    if n>=18:\n",
    "        return \"Eligible for voting\"\n",
    "    else:\n",
    "        return \"Not Eligible for voting\"\n",
    "    \n",
    "print(voting(age))"
   ]
  },
  {
   "cell_type": "code",
   "execution_count": 25,
   "id": "807e60ec",
   "metadata": {},
   "outputs": [
    {
     "name": "stdout",
     "output_type": "stream",
     "text": [
      "Fail\n"
     ]
    }
   ],
   "source": [
    "\"\"\"7. Student Pass/Fail Based on All Subjects >= 35\n",
    "Question: Check if a student passed all subjects (maths, physics, chemistry). Explanation: Student passes only if marks in all subjects are 35 or more. - Input: Maths = 40, Physics = 36, Chemistry = 30 - Output: Fail\"\"\"\n",
    "\n",
    "m=33\n",
    "p=40\n",
    "c=35\n",
    "\n",
    "def P_or_F(a,b,c):\n",
    "    if a>=35 and b>=35 and c >=35:\n",
    "        return \"Pass\"\n",
    "    else:\n",
    "        return \"Fail\"\n",
    "    \n",
    "print(P_or_F(m,p,c))"
   ]
  },
  {
   "cell_type": "code",
   "execution_count": 28,
   "id": "baf1116e",
   "metadata": {},
   "outputs": [
    {
     "name": "stdout",
     "output_type": "stream",
     "text": [
      "Pass\n"
     ]
    }
   ],
   "source": [
    "\"\"\"8. Student Pass if Passed Any One Subject (>= 35)\n",
    "Question: Check if the student passed at least one subject. Explanation: Use logical OR to check if any one subject has marks >= 35. - Input: Maths = 20, Physics = 38, Chemistry = 25 - Output: Pass\n",
    "\"\"\"\n",
    "m=33\n",
    "p=36\n",
    "c=33\n",
    "\n",
    "def P_or_F(a,b,c):\n",
    "    if a>=35 or b>=35 or c >=35:\n",
    "        return \"Pass\"\n",
    "    else:\n",
    "        return \"Fail\"\n",
    "    \n",
    "print(P_or_F(m,p,c))"
   ]
  },
  {
   "cell_type": "code",
   "execution_count": 30,
   "id": "573db82c",
   "metadata": {},
   "outputs": [
    {
     "name": "stdout",
     "output_type": "stream",
     "text": [
      "Pass\n"
     ]
    }
   ],
   "source": [
    "\"\"\"9. Student Pass if Passed Any Two Subjects\n",
    "Question: Check if the student passed any two out of three subjects. Explanation: Use a counter or logical conditions to verify two subjects >= 35. - Input: Maths = 40, Physics = 20, Chemistry = 36 - Output: Pass\"\"\"\n",
    "m=33\n",
    "p=36\n",
    "c=40\n",
    "def grade(a,b,c):\n",
    "    if (a >= 35 and b >= 35) or (a >= 35 and c >= 35) or (b >= 35 and c >= 35):\n",
    "        return \"Pass\"\n",
    "    else:\n",
    "        return \"Fail\"\n",
    "    \n",
    "print(grade(m,p,c))\n"
   ]
  },
  {
   "cell_type": "code",
   "execution_count": 38,
   "id": "af38f06c",
   "metadata": {},
   "outputs": [
    {
     "name": "stdout",
     "output_type": "stream",
     "text": [
      "Biggest is : 31\n"
     ]
    }
   ],
   "source": [
    "\"\"\"10. Biggest Among Three Numbers\n",
    "Question: Find the biggest number among three. Explanation: Compare each pair of numbers using if-else conditions. - Input: A = 7, B = 4, C = 9 - Output: Biggest is: 9\n",
    "\"\"\"\n",
    "a=10\n",
    "b=-1\n",
    "c=31\n",
    "\n",
    "def biggest(a,b,c):\n",
    "    if a>b and a>c:\n",
    "        return \"Biggest is:\",a\n",
    "    elif b>a and b>c:\n",
    "        return \"Biggest is :\",b\n",
    "    else:\n",
    "        return \"Biggest is :\",c \n",
    "    \n",
    "print(* biggest(a,b,c))"
   ]
  },
  {
   "cell_type": "code",
   "execution_count": 42,
   "id": "fe451829",
   "metadata": {},
   "outputs": [
    {
     "name": "stdout",
     "output_type": "stream",
     "text": [
      "Smallest is : 3\n"
     ]
    }
   ],
   "source": [
    "\"\"\"11. Smallest Among Three Numbers\n",
    "Question: Find the smallest number among three. Explanation: Use comparison logic to determine the minimum value. - Input: A = 7, B = 4, C = 9 - Output: Smallest is: 4\n",
    "\"\"\"\n",
    "a=10\n",
    "b=11\n",
    "c=3\n",
    "\n",
    "def smallest(a,b,c):\n",
    "    if a<b and a<c:\n",
    "        return \"Smallest is:\",a\n",
    "    elif b<a and b<c:\n",
    "        return \"Smallest is :\",b\n",
    "    else:\n",
    "        return \"Smallest is :\",c \n",
    "    \n",
    "print(* smallest(a,b,c))"
   ]
  },
  {
   "cell_type": "code",
   "execution_count": 8,
   "id": "64e15ac5",
   "metadata": {},
   "outputs": [
    {
     "name": "stdout",
     "output_type": "stream",
     "text": [
      "square 7.0\n"
     ]
    }
   ],
   "source": [
    "\"\"\"12. Perfect Square or Not\n",
    "Question: Check if a number is a perfect square. Explanation: A number is a perfect square if the square of its square root equals the number. - Input: Number = 49 - Output: Perfect square\"\"\"\n",
    "import math\n",
    "n=49\n",
    "if math.sqrt(n)**2 ==n:\n",
    "    print(\"square\",math.sqrt(n))\n",
    "else:\n",
    "    print(\"not\",math.sqrt(n))"
   ]
  }
 ],
 "metadata": {
  "kernelspec": {
   "display_name": "Python 3",
   "language": "python",
   "name": "python3"
  },
  "language_info": {
   "codemirror_mode": {
    "name": "ipython",
    "version": 3
   },
   "file_extension": ".py",
   "mimetype": "text/x-python",
   "name": "python",
   "nbconvert_exporter": "python",
   "pygments_lexer": "ipython3",
   "version": "3.13.6"
  }
 },
 "nbformat": 4,
 "nbformat_minor": 5
}
