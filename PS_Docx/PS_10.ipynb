{
 "cells": [
  {
   "cell_type": "code",
   "execution_count": null,
   "id": "8eb9b9e8",
   "metadata": {},
   "outputs": [
    {
     "name": "stdout",
     "output_type": "stream",
     "text": [
      "[[1, 2], [3, 4]]\n",
      "square matrix\n"
     ]
    }
   ],
   "source": [
    "\"\"\"1. Check if a Matrix is Square\n",
    "Problem: Determine if the given matrix is square.\n",
    "Explanation: A matrix is square if the number of rows equals the number of columns.\n",
    "Input: [[1, 2], [3, 4]]\n",
    "Output: True\n",
    "________________________________________\n",
    "\"\"\"\n",
    "mat=[[1, 2], [3, 4]]\n",
    "print(mat)\n",
    "rows=len(mat)\n",
    "cols=len(mat[0])\n",
    "if rows==cols:\n",
    "    print(\"square matrix\")\n",
    "\n",
    "else:\n",
    "    print(\"not a square matrix\")"
   ]
  },
  {
   "cell_type": "code",
   "execution_count": 3,
   "id": "232080f2",
   "metadata": {},
   "outputs": [
    {
     "name": "stdout",
     "output_type": "stream",
     "text": [
      "[1, 4]\n"
     ]
    }
   ],
   "source": [
    "\"\"\"2. Print Diagonal Elements\n",
    "Problem: Print the main diagonal elements of a square matrix.\n",
    "Explanation: Elements where row index equals column index.\n",
    "Input: [[1, 2], [3, 4]]\n",
    "Output: [1, 4]\n",
    "\"\"\"\n",
    "\n",
    "mat=[[1,2],[3,4]]\n",
    "n=len(mat)\n",
    "diagonal=[]\n",
    "for i in range(n):\n",
    "    diagonal.append(mat[i][i])\n",
    "print(diagonal)\n",
    "\n"
   ]
  },
  {
   "cell_type": "code",
   "execution_count": 4,
   "id": "914e0012",
   "metadata": {},
   "outputs": [
    {
     "name": "stdout",
     "output_type": "stream",
     "text": [
      "[2, 3]\n"
     ]
    }
   ],
   "source": [
    "\"\"\"3. Print Anti-Diagonal Elements\n",
    "Problem: Print the anti-diagonal elements.\n",
    "Explanation: Elements where row + column = n - 1.\n",
    "Input: [[1, 2], [3, 4]]\n",
    "Output: [2, 3]\n",
    "\"\"\"\n",
    "matrix=[[1, 2], [3, 4]]\n",
    "n=len(matrix)\n",
    "anti=[]\n",
    "for i  in range(n):\n",
    "    anti.append(matrix[i][n-i-1])\n",
    "print(anti)"
   ]
  },
  {
   "cell_type": "code",
   "execution_count": 5,
   "id": "ad157646",
   "metadata": {},
   "outputs": [
    {
     "name": "stdout",
     "output_type": "stream",
     "text": [
      "[2, 3]\n"
     ]
    }
   ],
   "source": [
    "\"\"\"4. Print Non-Diagonal Elements\n",
    "Problem: Print all elements except the main diagonal.\n",
    "Input: [[1, 2], [3, 4]]\n",
    "Output: [2, 3]\n",
    "\"\"\"\n",
    "matrix=[[1, 2], [3, 4]]\n",
    "n=len(matrix)\n",
    "non=[]\n",
    "for i in range(n):\n",
    "    for j in range(n):\n",
    "        if i !=j:\n",
    "            non.append(matrix[i][j])\n",
    "print(non)\n"
   ]
  },
  {
   "cell_type": "code",
   "execution_count": 6,
   "id": "d0a1f3d4",
   "metadata": {},
   "outputs": [
    {
     "name": "stdout",
     "output_type": "stream",
     "text": [
      "[1, 4]\n"
     ]
    }
   ],
   "source": [
    "\"\"\"5. Print Non-Anti-Diagonal Elements\n",
    "Problem: Print all elements excluding anti-diagonal.\n",
    "Input: [[1, 2], [3, 4]]\n",
    "Output: [1, 4]\n",
    "\"\"\"\n",
    "matrix = [[1, 2], [3, 4]]\n",
    "\n",
    "n = len(matrix)\n",
    "non_anti = []\n",
    "for i in range(n):\n",
    "    for j in range(n):\n",
    "        if i + j != n - 1: \n",
    "            non_anti.append(matrix[i][j])\n",
    "\n",
    "print(non_anti)\n"
   ]
  },
  {
   "cell_type": "code",
   "execution_count": null,
   "id": "ea83e571",
   "metadata": {},
   "outputs": [
    {
     "name": "stdout",
     "output_type": "stream",
     "text": [
      "[[1, 0], [3, 4]]\n"
     ]
    }
   ],
   "source": [
    "\"\"\"6. Lower Triangle of Matrix\n",
    "Problem: Extract elements in or below the main diagonal.\n",
    "Input: [[1, 2], [3, 4]]\n",
    "Output: [[1, 0], [3, 4]]\n",
    "________________________________________\n",
    "\"\"\"\n",
    "matrix = [[1, 2], [3, 4]]\n",
    "\n",
    "n = len(matrix)\n",
    "lower_triangle = [[0]*n for _ in range(n)]  \n",
    "\n",
    "for i in range(n):\n",
    "    for j in range(n):\n",
    "        if i >= j:  \n",
    "            lower_triangle[i][j] = matrix[i][j]\n",
    "\n",
    "print(lower_triangle)  \n",
    "\n",
    "\n"
   ]
  },
  {
   "cell_type": "code",
   "execution_count": 10,
   "id": "7bf95b3a",
   "metadata": {},
   "outputs": [
    {
     "name": "stdout",
     "output_type": "stream",
     "text": [
      "[[1, 2], [0, 4]]\n"
     ]
    }
   ],
   "source": [
    "\"\"\"7. Upper Triangle of Matrix\n",
    "Problem: Extract elements in or above the main diagonal.\n",
    "Input: [[1, 2], [3, 4]]\n",
    "Output: [[1, 2], [0, 4]]\n",
    "\"\"\"\n",
    "matrix = [[1, 2], [3, 4]]\n",
    "\n",
    "n = len(matrix)\n",
    "upper=[[0]*n for i in range(n)]\n",
    "for i in range(n):\n",
    "    for j in range(n):\n",
    "        if i<=j:\n",
    "            upper[i][j]=matrix[i][j]\n",
    "\n",
    "print(upper)"
   ]
  },
  {
   "cell_type": "code",
   "execution_count": 11,
   "id": "c5f62cac",
   "metadata": {},
   "outputs": [
    {
     "name": "stdout",
     "output_type": "stream",
     "text": [
      "[[1, 3], [2, 4]]\n"
     ]
    }
   ],
   "source": [
    "\"\"\"________________________________________\n",
    "8. Transpose of Matrix\n",
    "Problem: Transpose the matrix (flip over the diagonal).\n",
    "Input: [[1, 2], [3, 4]]\n",
    "Output: [[1, 3], [2, 4]]\n",
    "\"\"\"\n",
    "matrix = [[1, 2], [3, 4]]\n",
    "\n",
    "n = len(matrix)\n",
    "tran=[[0]*n for i in range(n)]\n",
    "for i in range(n):\n",
    "    for j in range(n):\n",
    "        tran[j][i]=matrix[i][j]\n",
    "\n",
    "print(tran)"
   ]
  },
  {
   "cell_type": "code",
   "execution_count": 12,
   "id": "19505335",
   "metadata": {},
   "outputs": [
    {
     "name": "stdout",
     "output_type": "stream",
     "text": [
      "5 True\n"
     ]
    },
    {
     "ename": "IndexError",
     "evalue": "list index out of range",
     "output_type": "error",
     "traceback": [
      "\u001b[31m---------------------------------------------------------------------------\u001b[39m",
      "\u001b[31mIndexError\u001b[39m                                Traceback (most recent call last)",
      "\u001b[36mCell\u001b[39m\u001b[36m \u001b[39m\u001b[32mIn[12]\u001b[39m\u001b[32m, line 12\u001b[39m\n\u001b[32m     10\u001b[39m \u001b[38;5;28;01mfor\u001b[39;00m j \u001b[38;5;129;01min\u001b[39;00m \u001b[38;5;28mrange\u001b[39m(n):\n\u001b[32m     11\u001b[39m     \u001b[38;5;28;01mif\u001b[39;00m i==j:\n\u001b[32m---> \u001b[39m\u001b[32m12\u001b[39m         \u001b[38;5;28mprint\u001b[39m(\u001b[43mmat\u001b[49m\u001b[43m[\u001b[49m\u001b[43mi\u001b[49m\u001b[43m]\u001b[49m\u001b[43m[\u001b[49m\u001b[43mj\u001b[49m\u001b[43m]\u001b[49m,\u001b[38;5;28;01mTrue\u001b[39;00m)\n",
      "\u001b[31mIndexError\u001b[39m: list index out of range"
     ]
    }
   ],
   "source": [
    "\"\"\"9. Check if Diagonal Elements are Same\n",
    "Problem: Verify all diagonal elements are equal.\n",
    "Input: [[5, 0], [0, 5]]\n",
    "Output: True\n",
    "________________________________________\n",
    "\"\"\"\n",
    "mat=[[5,0],[[0,5]]]\n",
    "n=len(mat)\n",
    "for i in range(n):\n",
    "    for j in range(n):\n",
    "        if i==j:\n",
    "            print(mat[i][j],True)\n",
    "        "
   ]
  },
  {
   "cell_type": "code",
   "execution_count": null,
   "id": "e99b9861",
   "metadata": {},
   "outputs": [],
   "source": [
    "l1="
   ]
  }
 ],
 "metadata": {
  "kernelspec": {
   "display_name": "Python 3",
   "language": "python",
   "name": "python3"
  },
  "language_info": {
   "codemirror_mode": {
    "name": "ipython",
    "version": 3
   },
   "file_extension": ".py",
   "mimetype": "text/x-python",
   "name": "python",
   "nbconvert_exporter": "python",
   "pygments_lexer": "ipython3",
   "version": "3.13.6"
  }
 },
 "nbformat": 4,
 "nbformat_minor": 5
}
