{
 "cells": [
  {
   "cell_type": "code",
   "execution_count": 1,
   "id": "0904a961",
   "metadata": {},
   "outputs": [
    {
     "name": "stdout",
     "output_type": "stream",
     "text": [
      "25.0\n"
     ]
    }
   ],
   "source": [
    "\"\"\"1. Area of Square\n",
    "Question: Calculate the area of a square. - Formula: Area = side × side - Input: - Side = 5 - Output: - Area of square is: 25\n",
    "\"\"\"\n",
    "a=float(input())\n",
    "def areaofsquare(a):\n",
    "    return a*a\n",
    "\n",
    "\n",
    "print(areaofsquare(a))\n",
    "\n"
   ]
  },
  {
   "cell_type": "code",
   "execution_count": 3,
   "id": "74c47d96",
   "metadata": {},
   "outputs": [
    {
     "name": "stdout",
     "output_type": "stream",
     "text": [
      "61.75 units\n"
     ]
    }
   ],
   "source": [
    "\"\"\"2. Area of Rectangle\n",
    "Question: Calculate the area of a rectangle. - Formula: Area = length × breadth - Input: - Length = 6 - Breadth = 4 - Output: - Area of rectangle is: 24\n",
    "________________________________________\n",
    "\"\"\"\n",
    "a=float(input(\"enter length of rectange: \"))\n",
    "b=float(input(\"enter breadth of rectange: \"))\n",
    "\n",
    "def rectangle(l,b):\n",
    "    return l*b\n",
    "\n",
    "print(rectangle(a,b),\"units\")"
   ]
  },
  {
   "cell_type": "code",
   "execution_count": 4,
   "id": "96596378",
   "metadata": {},
   "outputs": [
    {
     "name": "stdout",
     "output_type": "stream",
     "text": [
      "20.0\n"
     ]
    }
   ],
   "source": [
    "\"\"\"3. Area of Triangle\n",
    "Question: Calculate the area of a triangle using base and height. - Formula: Area = (1/2) × base × height - Input: - Base = 8 - Height = 5 - Output: - Area of triangle is: 20.0\n",
    "\"\"\"\n",
    "b=float(int(input()))\n",
    "h=float(input())\n",
    "\n",
    "def triange(b,h):\n",
    "    return (1/2)*b*h\n",
    "\n",
    "print(triange(b,h))\n"
   ]
  },
  {
   "cell_type": "code",
   "execution_count": 6,
   "id": "5f7b5455",
   "metadata": {},
   "outputs": [
    {
     "name": "stdout",
     "output_type": "stream",
     "text": [
      "24.0\n"
     ]
    }
   ],
   "source": [
    "\"\"\"4. Perimeter of Square\n",
    "Question: Calculate the perimeter of a square. - Formula: Perimeter = 4 × side - Input: - Side = 6 - Output: - Perimeter of square is: 24\n",
    "\"\"\"\n",
    "a=float(input())\n",
    "pofsquare=4*a\n",
    "print(pofsquare)"
   ]
  },
  {
   "cell_type": "code",
   "execution_count": 7,
   "id": "7541b29a",
   "metadata": {},
   "outputs": [
    {
     "name": "stdout",
     "output_type": "stream",
     "text": [
      "16.0\n"
     ]
    }
   ],
   "source": [
    "\"\"\". Perimeter of Rectangle\n",
    "Question: Calculate the perimeter of a rectangle. - Formula: Perimeter = 2 × (length + breadth) - Input: - Length = 5 - Breadth = 3 - Output: - Perimeter of rectangle is: 16\n",
    "________________________________________\n",
    "\"\"\"\n",
    "l=float(input())\n",
    "b=float(input())\n",
    "perimeter_of_rectangle=2*(l+b)\n",
    "print(perimeter_of_rectangle)"
   ]
  },
  {
   "cell_type": "code",
   "execution_count": null,
   "id": "36f96cad",
   "metadata": {},
   "outputs": [
    {
     "name": "stdout",
     "output_type": "stream",
     "text": [
      "18\n"
     ]
    }
   ],
   "source": [
    "\"\"\"6. Perimeter of Triangle\n",
    "Question: Calculate the perimeter of a triangle. - Formula: Perimeter = side1 + side2 + side3 - Input: - Side1 = 5, Side2 = 6, Side3 = 7 - Output: - Perimeter of triangle is: 18\n",
    "________________________________________\n",
    "\"\"\"\n",
    "s1=5\n",
    "s2=6\n",
    "s3=7\n",
    "\n",
    "perimeter_of_triangle=s1+s2+s3\n",
    "\n",
    "print(perimeter_of_triangle)"
   ]
  },
  {
   "cell_type": "code",
   "execution_count": null,
   "id": "74da2957",
   "metadata": {},
   "outputs": [
    {
     "name": "stdout",
     "output_type": "stream",
     "text": [
      "1000s: 3 - 500s: 1 - Remaining: 200\n"
     ]
    }
   ],
   "source": [
    "\"\"\"7. Break Amount into 1000s, 500s, and Remaining Change\n",
    "Question: Break the total amount into denominations. - Input: - Amount = 3700 - Output: - 1000s: 3 - 500s: 1 - Remaining: 200\n",
    "________________________________________\n",
    "\"\"\"\n",
    "amount=3700\n",
    "th=amount//1000\n",
    "VXX=(amount%1000)//500\n",
    "rem=((amount%1000)%500)\n",
    "\n",
    "print(f'1000s: {th} - 500s: {VXX} - Remaining: {rem}')"
   ]
  },
  {
   "cell_type": "code",
   "execution_count": 41,
   "id": "3e1d6878",
   "metadata": {},
   "outputs": [
    {
     "name": "stdout",
     "output_type": "stream",
     "text": [
      "Hours: 1 Minutes: 1 Seconds: 12\n"
     ]
    }
   ],
   "source": [
    "\"\"\"8. Convert Seconds into Hours, Minutes, and Seconds\n",
    "Question: Convert total seconds into hours, minutes, and seconds. - Input: - Total seconds = 3672 - Output: - Hours: 1 - Minutes: 1 - Seconds: 12\n",
    "________________________________________\n",
    "\"\"\"\n",
    "totseconds=3672\n",
    "hours=(totseconds)//(60*60)\n",
    "rem_sec=totseconds%3600\n",
    "minutes=rem_sec//60\n",
    "seconds=rem_sec%60\n",
    "\n",
    "print(f'Hours: {hours} Minutes: {minutes} Seconds: {seconds}')"
   ]
  },
  {
   "cell_type": "code",
   "execution_count": 42,
   "id": "b74dee92",
   "metadata": {},
   "outputs": [
    {
     "name": "stdout",
     "output_type": "stream",
     "text": [
      "Total marks: 263\n"
     ]
    }
   ],
   "source": [
    "\"\"\"9. Sum of Marks (Maths, Physics, Chemistry)\n",
    "Question: Calculate the sum of marks in 3 subjects. - Input: - Maths = 85 - Physics = 90 - Chemistry = 88 - Output: - Total marks: 263\n",
    "\"\"\"\n",
    "maths=85\n",
    "physics=90\n",
    "chemistry=88\n",
    "totalmarks=maths+physics+chemistry\n",
    "print(f'Total marks: {totalmarks}')"
   ]
  },
  {
   "cell_type": "code",
   "execution_count": 47,
   "id": "5cf28b8d",
   "metadata": {},
   "outputs": [
    {
     "name": "stdout",
     "output_type": "stream",
     "text": [
      "Average marks: 87.67\n"
     ]
    }
   ],
   "source": [
    "\"\"\"10. Average of Marks (Maths, Physics, Chemistry)\n",
    "Question: Calculate the average of marks in 3 subjects. - Input: - Maths = 85 - Physics = 90 - Chemistry = 88 - Output: - Average marks: 87.67\n",
    "\"\"\"\n",
    "maths=85\n",
    "physics=90\n",
    "chemistry=88\n",
    "totalmarks=maths+physics+chemistry\n",
    "avg=round(totalmarks/3,2)\n",
    "print(f'Average marks: {avg}')"
   ]
  }
 ],
 "metadata": {
  "kernelspec": {
   "display_name": "Python 3",
   "language": "python",
   "name": "python3"
  },
  "language_info": {
   "codemirror_mode": {
    "name": "ipython",
    "version": 3
   },
   "file_extension": ".py",
   "mimetype": "text/x-python",
   "name": "python",
   "nbconvert_exporter": "python",
   "pygments_lexer": "ipython3",
   "version": "3.13.6"
  }
 },
 "nbformat": 4,
 "nbformat_minor": 5
}
